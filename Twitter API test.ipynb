{
 "cells": [
  {
   "cell_type": "code",
   "execution_count": 2,
   "metadata": {
    "ExecuteTime": {
     "end_time": "2018-09-05T22:53:33.611291Z",
     "start_time": "2018-09-05T22:53:32.622142Z"
    }
   },
   "outputs": [],
   "source": [
    "import json\n",
    "from twython import Twython"
   ]
  },
  {
   "cell_type": "code",
   "execution_count": 4,
   "metadata": {
    "ExecuteTime": {
     "end_time": "2018-09-05T22:56:18.642409Z",
     "start_time": "2018-09-05T22:56:17.938115Z"
    }
   },
   "outputs": [],
   "source": [
    "APP_KEY = \"CSj6qpJKCpVKwuNeqvbKNTc1m\"\n",
    "APP_SECRET = \"jQuekqb4dNZpzncpDKJL0kzV0jI8oL5Wf3GMk56Dry5jztsmrB\"\n",
    "\n",
    "twitter = Twython(APP_KEY,APP_SECRET,oauth_version=2)\n",
    "ACCESS_TOKEN = twitter.obtain_access_token()"
   ]
  },
  {
   "cell_type": "code",
   "execution_count": 9,
   "metadata": {
    "ExecuteTime": {
     "end_time": "2018-09-05T23:03:01.677627Z",
     "start_time": "2018-09-05T23:03:01.665807Z"
    }
   },
   "outputs": [],
   "source": [
    "twitter = Twython(APP_KEY,access_token=ACCESS_TOKEN)"
   ]
  },
  {
   "cell_type": "code",
   "execution_count": 45,
   "metadata": {
    "ExecuteTime": {
     "end_time": "2018-09-06T01:27:39.894569Z",
     "start_time": "2018-09-06T01:27:38.211847Z"
    }
   },
   "outputs": [],
   "source": [
    "res1 = twitter.search(q=\"\\$TSLA\",tweet_mode='extended')"
   ]
  },
  {
   "cell_type": "code",
   "execution_count": 51,
   "metadata": {
    "ExecuteTime": {
     "end_time": "2018-09-06T01:31:04.116278Z",
     "start_time": "2018-09-06T01:31:04.087104Z"
    }
   },
   "outputs": [
    {
     "name": "stdout",
     "output_type": "stream",
     "text": [
      "RT @patrickcomack: Just a reminder that $TSLA faces $billions in monetary penalties from the securities fraud, and only has $1.7 bill in th… \n",
      "\n",
      "RT @siddfinance: .@Tesla outsold @BMW, @MercedesBenz and @Audi in the US in August!! $TSLA\n",
      "https://t.co/NhR7dDpNDT https://t.co/dANrazfU3U \n",
      "\n",
      "King of Fraud &amp; Crony Capitalism $TSLA  (PNF Chart show) https://t.co/TmjQMtdgEt \n",
      "\n",
      "RT @TeslaCharts: @Aceinmysleeve1 @elonmusk Actually, the CEO of a $50B company retweeting somebody else's guess of material non-public info… \n",
      "\n",
      "#VW reportedly backed #Tesla's bid to go private\n",
      "But Elon Musk was leery of ceding any control to a rival - @theAutoblog https://t.co/qoO4dOtzuM \n",
      "#delisting #startup #automotive #mobility $TSLA https://t.co/o2FtQLWUDy \n",
      "\n",
      "RT @Zen_n_Sys: Two cents from Monk: In technical trading and for your charts there is no good company or bad company. If you short $AMZN or… \n",
      "\n",
      "RT @Polixenes13: Dear $TSLA Board of Directors, are you in agreement with your CEO's endorsement of the August delivery numbers? Any materi… \n",
      "\n",
      "RT @CarDudeTopanga: My favorite $TSLA story:\n",
      "- VIN #7980 was rejected by buyer in March 2018 in Dallas TX. See TMC forum for proof.\n",
      "- Was r… \n",
      "\n",
      "@Aceinmysleeve1 @elonmusk Actually, the CEO of a $50B company retweeting somebody else's guess of material non-public information about his company (i.e. $TSLA's delivery numbers for the month of August) without further clarity is outrageous. What's his intent? \n",
      "\n",
      "RT @SteveHamel16: A picture is worth a 1000 thousand words\n",
      "\n",
      "$TSLA\n",
      "@elonmusk \n",
      "@Tesla https://t.co/urpb4Dvutg \n",
      "\n",
      "RT @evannex_com: That's right, the #TeslaModel3 alone just outsold ALL of BMW's passenger cars, check this out: https://t.co/KkTax4rvPy $TS… \n",
      "\n",
      "$TSLA has only sold more than 4,700 S/X's in 5 of the past 20 months. Which means they better be off to a great start this month. \n",
      "\n",
      "RT @iamhubris: Accusing rescuers of being child rapists without evidence while retaining very expensive legal counsel for securities fraud… \n",
      "\n",
      "RT @MTrumbleson: @ShortingIsFun @InsideEVs This is the type of information .@SEC_Enforcement needs to prosecute the fraudsters at $TSLA.\n",
      "\n",
      "I… \n",
      "\n",
      "RT @Polixenes13: Dear $TSLA Board of Directors, are you in agreement with your CEO's endorsement of the August delivery numbers? Any materi… \n",
      "\n"
     ]
    }
   ],
   "source": [
    "for status in res1['statuses']:\n",
    "    tweet = status['full_text']\n",
    "    print(tweet,'\\n')"
   ]
  },
  {
   "cell_type": "code",
   "execution_count": 46,
   "metadata": {
    "ExecuteTime": {
     "end_time": "2018-09-06T01:27:44.860462Z",
     "start_time": "2018-09-06T01:27:44.850111Z"
    }
   },
   "outputs": [
    {
     "data": {
      "text/plain": [
       "dict_keys(['created_at', 'id', 'id_str', 'full_text', 'truncated', 'display_text_range', 'entities', 'metadata', 'source', 'in_reply_to_status_id', 'in_reply_to_status_id_str', 'in_reply_to_user_id', 'in_reply_to_user_id_str', 'in_reply_to_screen_name', 'user', 'geo', 'coordinates', 'place', 'contributors', 'retweeted_status', 'is_quote_status', 'retweet_count', 'favorite_count', 'favorited', 'retweeted', 'lang'])"
      ]
     },
     "execution_count": 46,
     "metadata": {},
     "output_type": "execute_result"
    }
   ],
   "source": [
    "res1['statuses'][5].keys()"
   ]
  },
  {
   "cell_type": "code",
   "execution_count": 50,
   "metadata": {
    "ExecuteTime": {
     "end_time": "2018-09-06T01:29:24.215985Z",
     "start_time": "2018-09-06T01:29:24.193327Z"
    },
    "scrolled": false
   },
   "outputs": [
    {
     "data": {
      "text/plain": [
       "{'contributors': None,\n",
       " 'coordinates': None,\n",
       " 'created_at': 'Thu Sep 06 01:27:16 +0000 2018',\n",
       " 'display_text_range': [0, 140],\n",
       " 'entities': {'hashtags': [],\n",
       "  'symbols': [{'indices': [40, 45], 'text': 'TSLA'}],\n",
       "  'urls': [],\n",
       "  'user_mentions': [{'id': 261743206,\n",
       "    'id_str': '261743206',\n",
       "    'indices': [3, 17],\n",
       "    'name': 'Patrick Comack',\n",
       "    'screen_name': 'patrickcomack'}]},\n",
       " 'favorite_count': 0,\n",
       " 'favorited': False,\n",
       " 'full_text': 'RT @patrickcomack: Just a reminder that $TSLA faces $billions in monetary penalties from the securities fraud, and only has $1.7 bill in th…',\n",
       " 'geo': None,\n",
       " 'id': 1037512524663582721,\n",
       " 'id_str': '1037512524663582721',\n",
       " 'in_reply_to_screen_name': None,\n",
       " 'in_reply_to_status_id': None,\n",
       " 'in_reply_to_status_id_str': None,\n",
       " 'in_reply_to_user_id': None,\n",
       " 'in_reply_to_user_id_str': None,\n",
       " 'is_quote_status': False,\n",
       " 'lang': 'en',\n",
       " 'metadata': {'iso_language_code': 'en', 'result_type': 'recent'},\n",
       " 'place': None,\n",
       " 'retweet_count': 12,\n",
       " 'retweeted': False,\n",
       " 'retweeted_status': {'contributors': None,\n",
       "  'coordinates': None,\n",
       "  'created_at': 'Wed Sep 05 12:36:50 +0000 2018',\n",
       "  'display_text_range': [0, 222],\n",
       "  'entities': {'hashtags': [],\n",
       "   'symbols': [{'indices': [21, 26], 'text': 'TSLA'},\n",
       "    {'indices': [204, 209], 'text': 'TSLA'}],\n",
       "   'urls': [],\n",
       "   'user_mentions': []},\n",
       "  'favorite_count': 32,\n",
       "  'favorited': False,\n",
       "  'full_text': 'Just a reminder that $TSLA faces $billions in monetary penalties from the securities fraud, and only has $1.7 bill in the bank w/ $3 bill in accounts payable &amp; $1.2 bill of near-term debt maturities; $TSLA is insolvent',\n",
       "  'geo': None,\n",
       "  'id': 1037318639861616640,\n",
       "  'id_str': '1037318639861616640',\n",
       "  'in_reply_to_screen_name': None,\n",
       "  'in_reply_to_status_id': None,\n",
       "  'in_reply_to_status_id_str': None,\n",
       "  'in_reply_to_user_id': None,\n",
       "  'in_reply_to_user_id_str': None,\n",
       "  'is_quote_status': False,\n",
       "  'lang': 'en',\n",
       "  'metadata': {'iso_language_code': 'en', 'result_type': 'recent'},\n",
       "  'place': None,\n",
       "  'retweet_count': 12,\n",
       "  'retweeted': False,\n",
       "  'source': '<a href=\"http://twitter.com/download/android\" rel=\"nofollow\">Twitter for Android</a>',\n",
       "  'truncated': False,\n",
       "  'user': {'contributors_enabled': False,\n",
       "   'created_at': 'Sun Mar 06 16:18:40 +0000 2011',\n",
       "   'default_profile': True,\n",
       "   'default_profile_image': False,\n",
       "   'description': 'Analyst at Zachary Group, LLC; Pernicious Anemia survivor; I fear God & voted for Donald Trump',\n",
       "   'entities': {'description': {'urls': []}},\n",
       "   'favourites_count': 8622,\n",
       "   'follow_request_sent': None,\n",
       "   'followers_count': 577,\n",
       "   'following': None,\n",
       "   'friends_count': 525,\n",
       "   'geo_enabled': False,\n",
       "   'has_extended_profile': False,\n",
       "   'id': 261743206,\n",
       "   'id_str': '261743206',\n",
       "   'is_translation_enabled': False,\n",
       "   'is_translator': False,\n",
       "   'lang': 'en',\n",
       "   'listed_count': 15,\n",
       "   'location': 'Key West, FL',\n",
       "   'name': 'Patrick Comack',\n",
       "   'notifications': None,\n",
       "   'profile_background_color': 'C0DEED',\n",
       "   'profile_background_image_url': 'http://abs.twimg.com/images/themes/theme1/bg.png',\n",
       "   'profile_background_image_url_https': 'https://abs.twimg.com/images/themes/theme1/bg.png',\n",
       "   'profile_background_tile': False,\n",
       "   'profile_banner_url': 'https://pbs.twimg.com/profile_banners/261743206/1488533272',\n",
       "   'profile_image_url': 'http://pbs.twimg.com/profile_images/1020403026983612421/AnAZOCq0_normal.jpg',\n",
       "   'profile_image_url_https': 'https://pbs.twimg.com/profile_images/1020403026983612421/AnAZOCq0_normal.jpg',\n",
       "   'profile_link_color': '1DA1F2',\n",
       "   'profile_sidebar_border_color': 'C0DEED',\n",
       "   'profile_sidebar_fill_color': 'DDEEF6',\n",
       "   'profile_text_color': '333333',\n",
       "   'profile_use_background_image': True,\n",
       "   'protected': False,\n",
       "   'screen_name': 'patrickcomack',\n",
       "   'statuses_count': 8746,\n",
       "   'time_zone': None,\n",
       "   'translator_type': 'none',\n",
       "   'url': None,\n",
       "   'utc_offset': None,\n",
       "   'verified': False}},\n",
       " 'source': '<a href=\"http://twitter.com/download/android\" rel=\"nofollow\">Twitter for Android</a>',\n",
       " 'truncated': False,\n",
       " 'user': {'contributors_enabled': False,\n",
       "  'created_at': 'Wed Feb 06 16:33:26 +0000 2008',\n",
       "  'default_profile': False,\n",
       "  'default_profile_image': False,\n",
       "  'description': 'Living the life Quixotic.\\r\\nCoordinator for @rgvzgm.',\n",
       "  'entities': {'description': {'urls': []},\n",
       "   'url': {'urls': [{'display_url': 'rgvzgm.blogspot.com',\n",
       "      'expanded_url': 'http://rgvzgm.blogspot.com',\n",
       "      'indices': [0, 23],\n",
       "      'url': 'https://t.co/264aofogQJ'}]}},\n",
       "  'favourites_count': 5,\n",
       "  'follow_request_sent': None,\n",
       "  'followers_count': 754,\n",
       "  'following': None,\n",
       "  'friends_count': 975,\n",
       "  'geo_enabled': True,\n",
       "  'has_extended_profile': False,\n",
       "  'id': 13165482,\n",
       "  'id_str': '13165482',\n",
       "  'is_translation_enabled': False,\n",
       "  'is_translator': False,\n",
       "  'lang': 'en',\n",
       "  'listed_count': 77,\n",
       "  'location': 'Edinburg, TX',\n",
       "  'name': 'Frank🦁F',\n",
       "  'notifications': None,\n",
       "  'profile_background_color': '000000',\n",
       "  'profile_background_image_url': 'http://abs.twimg.com/images/themes/theme1/bg.png',\n",
       "  'profile_background_image_url_https': 'https://abs.twimg.com/images/themes/theme1/bg.png',\n",
       "  'profile_background_tile': False,\n",
       "  'profile_banner_url': 'https://pbs.twimg.com/profile_banners/13165482/1400577939',\n",
       "  'profile_image_url': 'http://pbs.twimg.com/profile_images/793726802581557248/n6yO5JhV_normal.jpg',\n",
       "  'profile_image_url_https': 'https://pbs.twimg.com/profile_images/793726802581557248/n6yO5JhV_normal.jpg',\n",
       "  'profile_link_color': '0073FF',\n",
       "  'profile_sidebar_border_color': 'FFFFFF',\n",
       "  'profile_sidebar_fill_color': '000000',\n",
       "  'profile_text_color': '0088FF',\n",
       "  'profile_use_background_image': False,\n",
       "  'protected': False,\n",
       "  'screen_name': 'Lightrider',\n",
       "  'statuses_count': 90106,\n",
       "  'time_zone': None,\n",
       "  'translator_type': 'none',\n",
       "  'url': 'https://t.co/264aofogQJ',\n",
       "  'utc_offset': None,\n",
       "  'verified': False}}"
      ]
     },
     "execution_count": 50,
     "metadata": {},
     "output_type": "execute_result"
    }
   ],
   "source": [
    "res1['statuses'][0]"
   ]
  },
  {
   "cell_type": "code",
   "execution_count": null,
   "metadata": {},
   "outputs": [],
   "source": []
  }
 ],
 "metadata": {
  "kernelspec": {
   "display_name": "Python 3",
   "language": "python",
   "name": "python3"
  },
  "language_info": {
   "codemirror_mode": {
    "name": "ipython",
    "version": 3
   },
   "file_extension": ".py",
   "mimetype": "text/x-python",
   "name": "python",
   "nbconvert_exporter": "python",
   "pygments_lexer": "ipython3",
   "version": "3.6.3"
  },
  "toc": {
   "base_numbering": 1,
   "nav_menu": {},
   "number_sections": false,
   "sideBar": true,
   "skip_h1_title": false,
   "title_cell": "Table of Contents",
   "title_sidebar": "Contents",
   "toc_cell": false,
   "toc_position": {},
   "toc_section_display": true,
   "toc_window_display": false
  },
  "varInspector": {
   "cols": {
    "lenName": 16,
    "lenType": 16,
    "lenVar": 40
   },
   "kernels_config": {
    "python": {
     "delete_cmd_postfix": "",
     "delete_cmd_prefix": "del ",
     "library": "var_list.py",
     "varRefreshCmd": "print(var_dic_list())"
    },
    "r": {
     "delete_cmd_postfix": ") ",
     "delete_cmd_prefix": "rm(",
     "library": "var_list.r",
     "varRefreshCmd": "cat(var_dic_list()) "
    }
   },
   "types_to_exclude": [
    "module",
    "function",
    "builtin_function_or_method",
    "instance",
    "_Feature"
   ],
   "window_display": false
  }
 },
 "nbformat": 4,
 "nbformat_minor": 2
}
