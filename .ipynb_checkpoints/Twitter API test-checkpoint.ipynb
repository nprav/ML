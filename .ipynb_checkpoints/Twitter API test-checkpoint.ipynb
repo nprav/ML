{
 "cells": [
  {
   "cell_type": "code",
   "execution_count": 73,
   "metadata": {
    "ExecuteTime": {
     "end_time": "2018-09-12T22:38:25.791263Z",
     "start_time": "2018-09-12T22:38:25.765757Z"
    }
   },
   "outputs": [],
   "source": [
    "import json\n",
    "from twython import Twython"
   ]
  },
  {
   "cell_type": "code",
   "execution_count": 115,
   "metadata": {
    "ExecuteTime": {
     "end_time": "2018-09-13T01:13:51.333829Z",
     "start_time": "2018-09-13T01:13:51.035908Z"
    },
    "scrolled": true
   },
   "outputs": [],
   "source": [
    "keyfile = r\"C:\\API keys\\twitter_keys.txt\"\n",
    "with open(keyfile) as file:\n",
    "    APP_KEY = file.readline().strip().split(\",\")[-1]\n",
    "    APP_SECRET = file.readline().strip().split(\",\")[-1]\n",
    "\n",
    "tw_auth = Twython(APP_KEY,APP_SECRET,oauth_version=2)\n",
    "ACCESS_TOKEN = tw_auth.obtain_access_token()"
   ]
  },
  {
   "cell_type": "code",
   "execution_count": 116,
   "metadata": {
    "ExecuteTime": {
     "end_time": "2018-09-13T01:13:57.035869Z",
     "start_time": "2018-09-13T01:13:57.016888Z"
    }
   },
   "outputs": [],
   "source": [
    "twitter = Twython(APP_KEY,access_token=ACCESS_TOKEN)"
   ]
  },
  {
   "cell_type": "code",
   "execution_count": 117,
   "metadata": {
    "ExecuteTime": {
     "end_time": "2018-09-13T01:13:58.572793Z",
     "start_time": "2018-09-13T01:13:58.006587Z"
    }
   },
   "outputs": [],
   "source": [
    "res1 = twitter.search(q=\"\\$TSLA\",tweet_mode='extended')"
   ]
  },
  {
   "cell_type": "code",
   "execution_count": 126,
   "metadata": {
    "ExecuteTime": {
     "end_time": "2018-09-13T01:17:41.757597Z",
     "start_time": "2018-09-13T01:17:41.734613Z"
    }
   },
   "outputs": [
    {
     "name": "stdout",
     "output_type": "stream",
     "text": [
      "@kimpaquette $TSLA Shorts: “Elon is only doing this for PR! He doesn’t actually care about people.” \n",
      "\n",
      "-------\n",
      "i won't be sad when @elonmusk is in jail, @GerberKawasaki and @BaillieGifford are disgraced and @Gfilche loses his savings over the POS that $tsla is...\n",
      "\n",
      "...but it is sad to read about tales like this. normal Tesla fan buys a car only to find out it's a POS. \n",
      "\n",
      "$tslaq https://t.co/sIbDtD2QBt \n",
      "\n",
      "-------\n",
      "A deliveries miss disguised as a pump?\n",
      "$TSLA https://t.co/995nHTdZnB \n",
      "\n",
      "-------\n",
      "$GLD $SLV $IAU $AGQ $PSLV $PHYS $USLV $SIVR $SGOL $UGLD $ZSL $UGL $SLVO $DGP $GLL $GLDI $OUNZ $DSLV $DZZ $DGL $DBS  $GLD $XAUUSD  $TSLA $BARC $LYG $JPM $C $GBTC $SQ $AMZN $COIN $aapl $spy $nflx $nvda $mu $OPEC $USD $JPY $USOIL $UKOIL https://t.co/hG0GGTBmZk \n",
      "\n",
      "-------\n",
      "@MelaynaLokosky @jack @elonmusk @joerogan @TheJusticeDept #ElonMusk is in trouble\n",
      "#tesla #SpaceXFleet #SpaceX $tsla #SpaceForce #space #WednesdayWisdom #AppleEvent #trading #Stocks #Blockchain #musk #Eloncity #FakeNewsCNN #fakenews #FakeNewsMedia #investing #fintech #Finance #Florence #NASA #FlatEarth https://t.co/wzL40lIPtn \n",
      "\n",
      "-------\n",
      "Gold Seeker Closing Report: Gold and Silver Gain Almost 1%  $GLD $XAUUSD  $TSLA $BARC $LYG $JPM $C $GBTC $SQ $AMZN $COIN $aapl $spy $nflx $nvda $mu $OPEC $USD $JPY $USOIL $UKOIL https://t.co/wquK3iZQvh \n",
      "\n",
      "-------\n",
      "Dear Market,   \n",
      "\n",
      "You realize $TSLA hasn’t even disclosed the SEC subpoenas yet, right? \n",
      "\n",
      "-------\n",
      "Barrick Gold to eliminate innovation role under broad decentralization effort /via @globeandmail  $GLD $XAUUSD  $TSLA $BARC $LYG $JPM $C $GBTC $SQ $AMZN $COIN $aapl $spy $nflx $nvda $mu $OPEC $USD $JPY $USOIL $UKOIL https://t.co/Y5p6nVRvZB \n",
      "\n",
      "-------\n",
      "Here's Why These Gold Stocks Lost Their Luster in August @themotleyfool #stocks $AUY, $KGC, $IAG, $EGO  $GLD $XAUUSD  $TSLA $BARC $LYG $JPM $C $GBTC $SQ $AMZN $COIN $aapl $spy $nflx $nvda $mu $OPEC $USD $JPY $USOIL $UKOIL https://t.co/gbIK2OnVxg \n",
      "\n",
      "-------\n",
      "The well-known Chinese US stock market media https://t.co/m1hx0EHEIA (华尔街见闻) recently published @ValueAnalyst1 Tesla analysis report. Congrats to my buddy!! $TSLA https://t.co/cUuMCX71dp \n",
      "\n",
      "-------\n",
      "$AMZN $ETFC $BCH-USD $BTC-USD $DOGE-USD $ETC-USD $ETH-USD $LTC-USD  $GLD $XAUUSD  $TSLA $BARC $LYG $JPM $C $GBTC $SQ $AMZN $COIN $aapl $spy $nflx $nvda $mu $OPEC $USD $JPY $USOIL $UKOIL https://t.co/dJFpMIdxsa \n",
      "\n",
      "-------\n",
      "$TSLA's approach to securities law violations is lifted *straight* out of Fear And Loathing In Las Vegas: https://t.co/InjwaQJuQ9 \n",
      "\n",
      "-------\n",
      "Fellow $TSLA bears, the reality we see and the conclusions we arrive at after serious review of data, for and against, leads to one thing... $TSLAQ\n",
      "\n",
      "Yet fools prevail, truth is buried by an avalanche of lies, and somewhere Kimbal is laughing. \n",
      "\n",
      "#BearDown and don’t give up! \n",
      "\n",
      "-------\n",
      "$SNAP will drop to 7.70’s very soon. I guarantee it’ll happen. $SQ will hit new 52 week highs soon... $AAPL on its way up to $230’s.\n",
      "\n",
      "$FB $NFLX $TWTR $DIS $BABA $GOOG $TSLA $AMZN $BRK $MSFT\n",
      "\n",
      "#NASDAQ #NYSE #TSX #StockMarket #DayTrader #TradingStocks #StocksToWatch #WallStreet \n",
      "\n",
      "-------\n",
      "Worse than the dot-com bubble: Crypto's historic plunge hits 80 per cent  $GLD $XAUUSD  $TSLA $BARC $LYG $JPM $C $GBTC $SQ $AMZN $COIN $aapl $spy $nflx $nvda $mu $OPEC $USD $JPY $USOIL $UKOIL https://t.co/KYhGXu11Fx via @watoday \n",
      "\n",
      "-------\n"
     ]
    }
   ],
   "source": [
    "for status in res1['statuses']:\n",
    "    if 'retweeted_status' in status.keys():\n",
    "        status = status['retweeted_status']\n",
    "    tweet = status['full_text']\n",
    "    print(tweet,'\\n')\n",
    "    print(\"-------\")"
   ]
  },
  {
   "cell_type": "code",
   "execution_count": 46,
   "metadata": {
    "ExecuteTime": {
     "end_time": "2018-09-06T01:27:44.860462Z",
     "start_time": "2018-09-06T01:27:44.850111Z"
    }
   },
   "outputs": [
    {
     "data": {
      "text/plain": [
       "dict_keys(['created_at', 'id', 'id_str', 'full_text', 'truncated', 'display_text_range', 'entities', 'metadata', 'source', 'in_reply_to_status_id', 'in_reply_to_status_id_str', 'in_reply_to_user_id', 'in_reply_to_user_id_str', 'in_reply_to_screen_name', 'user', 'geo', 'coordinates', 'place', 'contributors', 'retweeted_status', 'is_quote_status', 'retweet_count', 'favorite_count', 'favorited', 'retweeted', 'lang'])"
      ]
     },
     "execution_count": 46,
     "metadata": {},
     "output_type": "execute_result"
    }
   ],
   "source": [
    "res1['statuses'][5].keys()"
   ]
  },
  {
   "cell_type": "code",
   "execution_count": 123,
   "metadata": {
    "ExecuteTime": {
     "end_time": "2018-09-13T01:16:07.892361Z",
     "start_time": "2018-09-13T01:16:07.870563Z"
    },
    "scrolled": false
   },
   "outputs": [
    {
     "data": {
      "text/plain": [
       "dict_keys(['created_at', 'id', 'id_str', 'full_text', 'truncated', 'display_text_range', 'entities', 'metadata', 'source', 'in_reply_to_status_id', 'in_reply_to_status_id_str', 'in_reply_to_user_id', 'in_reply_to_user_id_str', 'in_reply_to_screen_name', 'user', 'geo', 'coordinates', 'place', 'contributors', 'retweeted_status', 'is_quote_status', 'quoted_status_id', 'quoted_status_id_str', 'retweet_count', 'favorite_count', 'favorited', 'retweeted', 'lang'])"
      ]
     },
     "execution_count": 123,
     "metadata": {},
     "output_type": "execute_result"
    }
   ],
   "source": [
    "res1['statuses'][1].keys()"
   ]
  },
  {
   "cell_type": "code",
   "execution_count": null,
   "metadata": {},
   "outputs": [],
   "source": []
  }
 ],
 "metadata": {
  "kernelspec": {
   "display_name": "Python 3",
   "language": "python",
   "name": "python3"
  },
  "language_info": {
   "codemirror_mode": {
    "name": "ipython",
    "version": 3
   },
   "file_extension": ".py",
   "mimetype": "text/x-python",
   "name": "python",
   "nbconvert_exporter": "python",
   "pygments_lexer": "ipython3",
   "version": "3.6.3"
  },
  "toc": {
   "base_numbering": 1,
   "nav_menu": {},
   "number_sections": false,
   "sideBar": true,
   "skip_h1_title": false,
   "title_cell": "Table of Contents",
   "title_sidebar": "Contents",
   "toc_cell": false,
   "toc_position": {},
   "toc_section_display": true,
   "toc_window_display": false
  },
  "varInspector": {
   "cols": {
    "lenName": 16,
    "lenType": 16,
    "lenVar": 40
   },
   "kernels_config": {
    "python": {
     "delete_cmd_postfix": "",
     "delete_cmd_prefix": "del ",
     "library": "var_list.py",
     "varRefreshCmd": "print(var_dic_list())"
    },
    "r": {
     "delete_cmd_postfix": ") ",
     "delete_cmd_prefix": "rm(",
     "library": "var_list.r",
     "varRefreshCmd": "cat(var_dic_list()) "
    }
   },
   "types_to_exclude": [
    "module",
    "function",
    "builtin_function_or_method",
    "instance",
    "_Feature"
   ],
   "window_display": false
  }
 },
 "nbformat": 4,
 "nbformat_minor": 2
}
