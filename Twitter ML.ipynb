{
 "cells": [
  {
   "cell_type": "markdown",
   "metadata": {},
   "source": [
    "### Import all required libraries"
   ]
  },
  {
   "cell_type": "code",
   "execution_count": 2,
   "metadata": {
    "ExecuteTime": {
     "end_time": "2018-09-04T16:45:39.622353Z",
     "start_time": "2018-09-04T16:45:11.890405Z"
    }
   },
   "outputs": [
    {
     "name": "stderr",
     "output_type": "stream",
     "text": [
      "C:\\Anaconda3\\lib\\site-packages\\sklearn\\cross_validation.py:44: DeprecationWarning: This module was deprecated in version 0.18 in favor of the model_selection module into which all the refactored classes and functions are moved. Also note that the interface of the new CV iterators are different from that of this module. This module will be removed in 0.20.\n",
      "  \"This module will be removed in 0.20.\", DeprecationWarning)\n"
     ]
    }
   ],
   "source": [
    "import numpy as np\n",
    "import pandas as pd\n",
    "import matplotlib.pyplot as plt\n",
    "from IPython.display import display\n",
    "from nltk.corpus import twitter_samples\n",
    "from nltk.corpus import stopwords\n",
    "from nltk.stem.porter import PorterStemmer\n",
    "from sklearn.feature_extraction.text import CountVectorizer\n",
    "from sklearn.cross_validation import train_test_split\n",
    "from sklearn.naive_bayes import GaussianNB\n",
    "from sklearn.tree import DecisionTreeClassifier\n",
    "from sklearn.metrics import confusion_matrix\n",
    "import re\n",
    "% matplotlib inline"
   ]
  },
  {
   "cell_type": "markdown",
   "metadata": {},
   "source": [
    "### Setup twitter dataset"
   ]
  },
  {
   "cell_type": "code",
   "execution_count": 3,
   "metadata": {
    "ExecuteTime": {
     "end_time": "2018-09-04T16:45:39.726758Z",
     "start_time": "2018-09-04T16:45:39.717757Z"
    },
    "scrolled": true
   },
   "outputs": [
    {
     "data": {
      "text/plain": [
       "['negative_tweets.json', 'positive_tweets.json', 'tweets.20150430-223406.json']"
      ]
     },
     "execution_count": 3,
     "metadata": {},
     "output_type": "execute_result"
    }
   ],
   "source": [
    "twitter_samples.fileids()"
   ]
  },
  {
   "cell_type": "code",
   "execution_count": 4,
   "metadata": {
    "ExecuteTime": {
     "end_time": "2018-09-04T16:45:41.880827Z",
     "start_time": "2018-09-04T16:45:39.753760Z"
    },
    "collapsed": true
   },
   "outputs": [],
   "source": [
    "pos_tweets = twitter_samples.strings('positive_tweets.json')\n",
    "neg_tweets = twitter_samples.strings('negative_tweets.json')"
   ]
  },
  {
   "cell_type": "code",
   "execution_count": 98,
   "metadata": {
    "ExecuteTime": {
     "end_time": "2018-09-04T17:24:57.143784Z",
     "start_time": "2018-09-04T17:24:57.122782Z"
    },
    "collapsed": true
   },
   "outputs": [],
   "source": [
    "pos_dataset = pd.DataFrame(pos_tweets,columns=['Tweet'])\n",
    "pos_dataset['Sentiment'] = 1\n",
    "neg_dataset = pd.DataFrame(neg_tweets,columns=['Tweet'])\n",
    "neg_dataset['Sentiment'] = 0\n",
    "\n",
    "dataset = pos_dataset.append(neg_dataset)"
   ]
  },
  {
   "cell_type": "code",
   "execution_count": 99,
   "metadata": {
    "ExecuteTime": {
     "end_time": "2018-09-04T17:24:57.749845Z",
     "start_time": "2018-09-04T17:24:57.745844Z"
    },
    "collapsed": true
   },
   "outputs": [],
   "source": [
    "#dataset = dataset.sample(frac=1)"
   ]
  },
  {
   "cell_type": "markdown",
   "metadata": {},
   "source": [
    "### Cleanup and tokenize the text data"
   ]
  },
  {
   "cell_type": "code",
   "execution_count": 100,
   "metadata": {
    "ExecuteTime": {
     "end_time": "2018-09-04T17:24:58.834953Z",
     "start_time": "2018-09-04T17:24:58.812951Z"
    }
   },
   "outputs": [],
   "source": [
    "negation_words = set(['no','not'] + [word for word in stopwords.words('english') if re.search(\"n'\",word)])\n",
    "unwanted_words = set(stopwords.words('english')).difference(negation_words)\n",
    "ps = PorterStemmer()\n",
    "\n",
    "def tokenize(raw_tweet):\n",
    "    tweet = raw_tweet.lower()\n",
    "    tweet = tweet.split()\n",
    "    tweet = [ps.stem(word) for word in tweet if word not in unwanted_words]\n",
    "    tweet = \" \".join(tweet)\n",
    "    tweet = re.sub(\"[^a-zA-Z]\",\" \",tweet)\n",
    "    return tweet"
   ]
  },
  {
   "cell_type": "code",
   "execution_count": 101,
   "metadata": {
    "ExecuteTime": {
     "end_time": "2018-09-04T17:25:01.691239Z",
     "start_time": "2018-09-04T17:24:59.514021Z"
    }
   },
   "outputs": [],
   "source": [
    "corpus = dataset['Tweet'].apply(tokenize)"
   ]
  },
  {
   "cell_type": "code",
   "execution_count": 102,
   "metadata": {
    "ExecuteTime": {
     "end_time": "2018-09-04T17:25:01.842254Z",
     "start_time": "2018-09-04T17:25:01.818252Z"
    }
   },
   "outputs": [
    {
     "data": {
      "text/plain": [
       "0     followfriday  france int  pkuchly    milipol ...\n",
       "1     lamb ja hey james  odd    pleas call contact ...\n",
       "2     despiteoffici listen last night    bleed amaz...\n",
       "3                                      side congrat   \n",
       "4    yeaaaah yippppy    accnt verifi rqst succeed g...\n",
       "Name: Tweet, dtype: object"
      ]
     },
     "metadata": {},
     "output_type": "display_data"
    },
    {
     "data": {
      "text/html": [
       "<div>\n",
       "<style>\n",
       "    .dataframe thead tr:only-child th {\n",
       "        text-align: right;\n",
       "    }\n",
       "\n",
       "    .dataframe thead th {\n",
       "        text-align: left;\n",
       "    }\n",
       "\n",
       "    .dataframe tbody tr th {\n",
       "        vertical-align: top;\n",
       "    }\n",
       "</style>\n",
       "<table border=\"1\" class=\"dataframe\">\n",
       "  <thead>\n",
       "    <tr style=\"text-align: right;\">\n",
       "      <th></th>\n",
       "      <th>Tweet</th>\n",
       "      <th>Sentiment</th>\n",
       "    </tr>\n",
       "  </thead>\n",
       "  <tbody>\n",
       "    <tr>\n",
       "      <th>0</th>\n",
       "      <td>#FollowFriday @France_Inte @PKuchly57 @Milipol...</td>\n",
       "      <td>1</td>\n",
       "    </tr>\n",
       "    <tr>\n",
       "      <th>1</th>\n",
       "      <td>@Lamb2ja Hey James! How odd :/ Please call our...</td>\n",
       "      <td>1</td>\n",
       "    </tr>\n",
       "    <tr>\n",
       "      <th>2</th>\n",
       "      <td>@DespiteOfficial we had a listen last night :)...</td>\n",
       "      <td>1</td>\n",
       "    </tr>\n",
       "    <tr>\n",
       "      <th>3</th>\n",
       "      <td>@97sides CONGRATS :)</td>\n",
       "      <td>1</td>\n",
       "    </tr>\n",
       "    <tr>\n",
       "      <th>4</th>\n",
       "      <td>yeaaaah yippppy!!!  my accnt verified rqst has...</td>\n",
       "      <td>1</td>\n",
       "    </tr>\n",
       "  </tbody>\n",
       "</table>\n",
       "</div>"
      ],
      "text/plain": [
       "                                               Tweet  Sentiment\n",
       "0  #FollowFriday @France_Inte @PKuchly57 @Milipol...          1\n",
       "1  @Lamb2ja Hey James! How odd :/ Please call our...          1\n",
       "2  @DespiteOfficial we had a listen last night :)...          1\n",
       "3                               @97sides CONGRATS :)          1\n",
       "4  yeaaaah yippppy!!!  my accnt verified rqst has...          1"
      ]
     },
     "metadata": {},
     "output_type": "display_data"
    }
   ],
   "source": [
    "display(corpus.head())\n",
    "display(dataset.head())"
   ]
  },
  {
   "cell_type": "markdown",
   "metadata": {},
   "source": [
    "### Setup Matrices for ML model"
   ]
  },
  {
   "cell_type": "code",
   "execution_count": 103,
   "metadata": {
    "ExecuteTime": {
     "end_time": "2018-09-04T17:25:02.301300Z",
     "start_time": "2018-09-04T17:25:02.015271Z"
    },
    "collapsed": true
   },
   "outputs": [],
   "source": [
    "cv = CountVectorizer(max_features = 1500)\n",
    "X = cv.fit_transform(corpus).toarray()\n",
    "y = dataset['Sentiment'].values"
   ]
  },
  {
   "cell_type": "code",
   "execution_count": 104,
   "metadata": {
    "ExecuteTime": {
     "end_time": "2018-09-04T17:25:03.378408Z",
     "start_time": "2018-09-04T17:25:03.269397Z"
    },
    "collapsed": true
   },
   "outputs": [],
   "source": [
    "X_train, X_test, y_train, y_test = train_test_split(X,y,test_size = 0.15, random_state = 0)"
   ]
  },
  {
   "cell_type": "markdown",
   "metadata": {},
   "source": [
    "### Fit ML models"
   ]
  },
  {
   "cell_type": "code",
   "execution_count": 105,
   "metadata": {
    "ExecuteTime": {
     "end_time": "2018-09-04T17:25:25.426612Z",
     "start_time": "2018-09-04T17:25:04.624532Z"
    },
    "collapsed": true
   },
   "outputs": [],
   "source": [
    "classifiers = [GaussianNB(),\n",
    "              DecisionTreeClassifier(criterion='entropy', random_state=0)\n",
    "              ]\n",
    "y_pred = []\n",
    "for classifier in classifiers:\n",
    "    classifier.fit(X_train, y_train)\n",
    "    y_pred.append(classifier.predict(X_test))"
   ]
  },
  {
   "cell_type": "markdown",
   "metadata": {},
   "source": [
    "### View Results"
   ]
  },
  {
   "cell_type": "code",
   "execution_count": 106,
   "metadata": {
    "ExecuteTime": {
     "end_time": "2018-09-04T17:25:25.592629Z",
     "start_time": "2018-09-04T17:25:25.569627Z"
    }
   },
   "outputs": [
    {
     "name": "stdout",
     "output_type": "stream",
     "text": [
      "[[629 138]\n",
      " [388 345]] \n",
      "\n",
      "[[598 169]\n",
      " [246 487]] \n",
      "\n"
     ]
    }
   ],
   "source": [
    "cm = [confusion_matrix(y_test, y_p) for y_p in y_pred]\n",
    "for matrix in cm:\n",
    "    print(matrix,\"\\n\")"
   ]
  },
  {
   "cell_type": "code",
   "execution_count": 107,
   "metadata": {
    "ExecuteTime": {
     "end_time": "2018-09-04T17:25:25.759646Z",
     "start_time": "2018-09-04T17:25:25.742644Z"
    }
   },
   "outputs": [
    {
     "name": "stdout",
     "output_type": "stream",
     "text": [
      "0.649333333333\n",
      "0.723333333333\n"
     ]
    }
   ],
   "source": [
    "for array in cm:\n",
    "    print(array.trace()/array.sum())"
   ]
  },
  {
   "cell_type": "markdown",
   "metadata": {},
   "source": [
    "### Evaluate incorrect tweets"
   ]
  },
  {
   "cell_type": "code",
   "execution_count": 112,
   "metadata": {
    "ExecuteTime": {
     "end_time": "2018-09-04T17:26:11.889258Z",
     "start_time": "2018-09-04T17:26:11.872256Z"
    }
   },
   "outputs": [
    {
     "data": {
      "text/plain": [
       "array([False, False, False, ...,  True,  True, False], dtype=bool)"
      ]
     },
     "execution_count": 112,
     "metadata": {},
     "output_type": "execute_result"
    }
   ],
   "source": [
    "incorrect = y_test != y_pred[-1]\n",
    "incorrect"
   ]
  },
  {
   "cell_type": "code",
   "execution_count": 113,
   "metadata": {
    "ExecuteTime": {
     "end_time": "2018-09-04T17:26:13.116381Z",
     "start_time": "2018-09-04T17:26:13.016371Z"
    }
   },
   "outputs": [
    {
     "data": {
      "text/plain": [
       "[array(['amp', 'can', 'co', 'follow', 'help', 'https', 'iq', 'one',\n",
       "        'people', 'realli', 'sorri', 'support', 'twitter', 'via'], \n",
       "       dtype='<U27'), array(['absolut', 'amaz', 'best', 'co', 'http', 'kind'], \n",
       "       dtype='<U27'), array(['co', 'http'], \n",
       "       dtype='<U27'), array(['done', 'first', 'give', 'go', 'll', 'tweet'], \n",
       "       dtype='<U27'), array(['cross', 'end', 'favourit', 'finger', 'isnt', 'keep', 'let',\n",
       "        'thing', 'work'], \n",
       "       dtype='<U27'), array(['di', 'favorit', 'late', 'stay'], \n",
       "       dtype='<U27'), array(['best', 'player'], \n",
       "       dtype='<U27'), array(['day', 'got', 'need', 'someth', 'tuesday', 'whole'], \n",
       "       dtype='<U27'), array(['couldn', 'go', 'last', 'love', 'night', 'parti', 'seen', 'shame',\n",
       "        'would'], \n",
       "       dtype='<U27'), array(['tri', 'yeah'], \n",
       "       dtype='<U27'), array(['bed', 'got', 'yet'], \n",
       "       dtype='<U27'), array(['hope', 'next', 'ye', 'year'], \n",
       "       dtype='<U27'), array(['bring', 'made', 'mouth'], \n",
       "       dtype='<U27'), array(['awesom', 'green', 'one', 'other', 'tho', 'ugli'], \n",
       "       dtype='<U27'), array(['actual', 'bio', 'break', 'don', 'heart', 'see', 'ur'], \n",
       "       dtype='<U27'), array(['get', 'need', 'prob', 'see', 'time', 'tomorrow', 'upload'], \n",
       "       dtype='<U27'), array(['bio', 'check', 'get', 'info', 'secret', 'star', 'want'], \n",
       "       dtype='<U27'), array(['brother', 'hai', 'know', 'look', 'origin', 'respons', 'tweet'], \n",
       "       dtype='<U27'), array([], \n",
       "       dtype='<U27'), array(['okay'], \n",
       "       dtype='<U27'), array(['back', 'can', 'good', 'hope', 'love', 'one', 'time', 'wait',\n",
       "        'welcom'], \n",
       "       dtype='<U27'), array(['fri', 'gosh', 'love', 'much', 'oh', 'sell', 'stop'], \n",
       "       dtype='<U27'), array(['card', 'get', 'hour', 'least', 'like', 'll', 'love', 'new', 'real',\n",
       "        'realli', 'we'], \n",
       "       dtype='<U27'), array(['co', 'fun', 'http', 'kiksext', 'look', 'selfi', 'snapchat'], \n",
       "       dtype='<U27'), array(['btw', 'call', 'ear', 'head', 'listen', 'mobil', 'no', 'readi',\n",
       "        'thank', 'up', 'use', 'we'], \n",
       "       dtype='<U27'), array([], \n",
       "       dtype='<U27'), array(['co', 'http'], \n",
       "       dtype='<U27'), array(['co', 'hit', 'https', 'play'], \n",
       "       dtype='<U27'), array(['cast', 'get', 'll', 'tomorrow'], \n",
       "       dtype='<U27'), array(['anoth', 'co', 'found', 'http', 'note', 'to', 'town', 'work'], \n",
       "       dtype='<U27'), array(['book', 'child', 'co', 'hp', 'http', 'not', 'play'], \n",
       "       dtype='<U27'), array(['lie', 'movi', 'problem', 'run', 'safe', 'that', 'ye'], \n",
       "       dtype='<U27'), array(['broken', 'co', 'final', 'http', 'kit'], \n",
       "       dtype='<U27'), array(['amp', 'anyon', 'ask', 'give', 'im', 'kiss', 'sure', 'ur', 'welcom',\n",
       "        'would'], \n",
       "       dtype='<U27'), array(['co', 'http', 'is', 'via'], \n",
       "       dtype='<U27'), array(['haha', 'noth', 'stop'], \n",
       "       dtype='<U27'), array(['come', 'cuddl', 'll', 'make', 'movi', 'pl', 'someon', 'watch'], \n",
       "       dtype='<U27'), array(['album', 'beamil', 'cant', 'see', 'ur'], \n",
       "       dtype='<U27'), array(['feel', 'long', 'not', 'sick', 'thank', 'time', 'you'], \n",
       "       dtype='<U27'), array(['love', 'ye'], \n",
       "       dtype='<U27'), array(['cream', 'ice'], \n",
       "       dtype='<U27'), array(['fuck', 'kitchen', 'last', 'night', 'one', 'true', 'yeah'], \n",
       "       dtype='<U27'), array(['follow', 'miss', 'next', 'spree', 'though', 'time'], \n",
       "       dtype='<U27'), array(['mind'], \n",
       "       dtype='<U27'), array(['duck', 'fuck', 'nice', 'ur', 'weather'], \n",
       "       dtype='<U27'), array(['cream', 'ice', 'pretti', 'sure'], \n",
       "       dtype='<U27'), array(['co', 'dark', 'day', 'horribl', 'http', 'today'], \n",
       "       dtype='<U27'), array(['co', 'facetim', 'http', 'kik', 'kikmenow', 'kiksext', 'talk'], \n",
       "       dtype='<U27'), array(['came', 'chang', 'final', 'know', 'offici', 'peopl'], \n",
       "       dtype='<U27'), array(['friday', 'love'], \n",
       "       dtype='<U27'), array(['bore', 'le', 'one'], \n",
       "       dtype='<U27'), array(['august', 'co', 'http', 'order', 'price', 'sneak', 'stay'], \n",
       "       dtype='<U27'), array(['co', 'https', 'kid', 'listen', 'meet'], \n",
       "       dtype='<U27'), array(['happen', 'law', 'make', 'would'], \n",
       "       dtype='<U27'), array(['featur', 'make'], \n",
       "       dtype='<U27'), array(['cute'], \n",
       "       dtype='<U27'), array(['follow', 'im'], \n",
       "       dtype='<U27'), array(['cant', 'see', 'yes'], \n",
       "       dtype='<U27'), array(['co', 'http', 'miss', 'pop', 'this'], \n",
       "       dtype='<U27'), array(['hey', 'oh', 'you'], \n",
       "       dtype='<U27'), array(['co', 'http', 'kik', 'kikmenow', 'snapm', 'summer'], \n",
       "       dtype='<U27'), array(['annoy', 'outsid', 'sit', 'time', 'whole'], \n",
       "       dtype='<U27'), array(['around', 'co', 'go', 'https', 'it', 'pl', 'so'], \n",
       "       dtype='<U27'), array(['aww', 'dead', 'friend', 'guys', 'hi', 'made', 'saw', 'thank',\n",
       "        'thing', 'think', 'you'], \n",
       "       dtype='<U27'), array(['we', 'well'], \n",
       "       dtype='<U27'), array(['call', 'citi', 'day', 'found', 'go', 'hi', 'john', 'know', 'love',\n",
       "        'pleas', 'someon'], \n",
       "       dtype='<U27'), array(['back', 'co', 'hotel', 'https', 'park', 'take'], \n",
       "       dtype='<U27'), array(['af', 'movi'], \n",
       "       dtype='<U27'), array([], \n",
       "       dtype='<U27'), array(['activ', 'also', 'back', 'caus', 'everyon', 'go', 'know', 'miss',\n",
       "        'twitter', 'xd'], \n",
       "       dtype='<U27'), array(['mani', 'time', 'ye'], \n",
       "       dtype='<U27'), array(['fab', 'love', 'show'], \n",
       "       dtype='<U27'), array([], \n",
       "       dtype='<U27'), array(['citi', 'co', 'http', 'madrid', 'real', 'start', 'vs'], \n",
       "       dtype='<U27'), array(['fli', 'time'], \n",
       "       dtype='<U27'), array(['not', 'sure'], \n",
       "       dtype='<U27'), array(['amaz', 'glass', 'look', 'love'], \n",
       "       dtype='<U27'), array(['hear', 'pleas', 'sarah'], \n",
       "       dtype='<U27'), array(['first', 'food', 'need', 'shower', 'though'], \n",
       "       dtype='<U27'), array(['come', 'drive', 'still', 'tomorrow', 'want'], \n",
       "       dtype='<U27'), array(['co', 'http', 'uber'], \n",
       "       dtype='<U27'), array(['aww', 'do'], \n",
       "       dtype='<U27'), array(['busi', 'campaign', 'co', 'driver', 'great', 'https', 'market',\n",
       "        'shame', 'ubericecream', 'uberuk'], \n",
       "       dtype='<U27'), array(['again', 'favourit', 'stock', 'time', 'too'], \n",
       "       dtype='<U27'), array(['receiv'], \n",
       "       dtype='<U27'), array(['abl', 'gone', 'gonna', 'not', 'realli', 'scare', 'sleep', 'think',\n",
       "        'tonight'], \n",
       "       dtype='<U27'), array(['sister', 'town'], \n",
       "       dtype='<U27'), array(['alon', 'home'], \n",
       "       dtype='<U27'), array(['true'], \n",
       "       dtype='<U27'), array(['yeah'], \n",
       "       dtype='<U27'), array(['okay'], \n",
       "       dtype='<U27'), array(['hope', 'hug', 'ohh', 'then', 'till'], \n",
       "       dtype='<U27'), array(['app', 'articl', 'blog', 'check', 'meet', 'new'], \n",
       "       dtype='<U27'), array(['may', 'pleas', 'times', 'vote'], \n",
       "       dtype='<U27'), array(['baby', 'enjoy'], \n",
       "       dtype='<U27'), array(['back', 'doesn', 'even', 'follow'], \n",
       "       dtype='<U27'), array(['co', 'https'], \n",
       "       dtype='<U27'), array(['episod', 'forev', 'last', 'lt', 'realli'], \n",
       "       dtype='<U27'), array(['anoth', 'delph', 'kit', 'see', 'upset'], \n",
       "       dtype='<U27'), array(['follow', 'pleas'], \n",
       "       dtype='<U27'), array(['address', 'ben', 'like', 'name', 'no', 'oh', 'pleas', 'provid',\n",
       "        'us', 'would'], \n",
       "       dtype='<U27'), array(['fun', 'prob'], \n",
       "       dtype='<U27'), array(['chanc', 'face', 'hope', 'see', 'tonight'], \n",
       "       dtype='<U27'), array(['back', 'got', 'huhu', 'left', 'saw', 'tweet'], \n",
       "       dtype='<U27'), array(['amp', 'colour', 'dark', 'don', 'get', 'good', 'look', 'night',\n",
       "        'one', 'realli', 'tomorrow', 'use'], \n",
       "       dtype='<U27'), array(['act', 'app', 'call', 'hous', 'in', 'name', 'well'], \n",
       "       dtype='<U27'), array(['co', 'even', 'garden', 'https', 'rain'], \n",
       "       dtype='<U27'), array(['bet', 'cool', 'doesn', 'duck', 'sound', 'though'], \n",
       "       dtype='<U27'), array(['princess'], \n",
       "       dtype='<U27'), array(['hell', 'shit', 'true'], \n",
       "       dtype='<U27'), array(['guy', 'hear', 'want'], \n",
       "       dtype='<U27'), array(['like', 'moment', 'not'], \n",
       "       dtype='<U27'), array(['good', 'need', 'place'], \n",
       "       dtype='<U27'), array(['co', 'god', 'http', 'men', 'want'], \n",
       "       dtype='<U27'), array(['regret'], \n",
       "       dtype='<U27'), array(['haha', 'mother', 'other', 'right', 'said', 'wait', 'want'], \n",
       "       dtype='<U27'), array(['close', 'end', 'finish', 'monday', 'sadli', 'year'], \n",
       "       dtype='<U27'), array(['actual', 'easi', 'etc', 'guess', 'hour', 'least', 'like', 'must',\n",
       "        'shift', 'station', 'take', 'this', 'train'], \n",
       "       dtype='<U27'), array(['anyon', 'family', 'or'], \n",
       "       dtype='<U27'), array(['amp', 'breath', 'cat', 'face', 'love', 'never', 'right'], \n",
       "       dtype='<U27'), array(['co', 'http', 'huhu', 'mine', 'not', 'saw'], \n",
       "       dtype='<U27'), array(['sunni'], \n",
       "       dtype='<U27'), array(['feel', 'like', 'shit'], \n",
       "       dtype='<U27'), array(['choos', 'know', 'mani', 'not', 'true', 'xx', 'yet'], \n",
       "       dtype='<U27'), array(['ask', 'book', 'go', 'know', 'mum', 'not', 'shop', 'sure', 'want'], \n",
       "       dtype='<U27'), array(['co', 'http'], \n",
       "       dtype='<U27'), array(['dude', 'im', 'pull', 'stream', 'time', 'view'], \n",
       "       dtype='<U27'), array(['alway'], \n",
       "       dtype='<U27'), array(['in', 'no', 'now', 'prob', 'said', 'short', 'th', 'up', 'voic'], \n",
       "       dtype='<U27'), array(['close', 'co', 'draw', 'http', 'plan', 'weekend'], \n",
       "       dtype='<U27'), array(['children', 'cri', 'leav', 'lol', 'lovely', 'must', 'not', 'say',\n",
       "        'weekend'], \n",
       "       dtype='<U27'), array(['got'], \n",
       "       dtype='<U27'), array(['bought', 'cake', 'date', 'possibl', 'think', 'version'], \n",
       "       dtype='<U27'), array(['again', 'back', 'kick', 'll', 'miss', 'we'], \n",
       "       dtype='<U27'), array(['bye', 'good', 'parti'], \n",
       "       dtype='<U27'), array(['long', 'no', 'see', 'time'], \n",
       "       dtype='<U27'), array(['amp', 'awak', 'day', 'everi', 'hour', 'like', 'next', 'night',\n",
       "        'take'], \n",
       "       dtype='<U27'), array(['child', 'co', 'dare', 'days', 'get', 'http', 'wors'], \n",
       "       dtype='<U27'), array(['best', 'like', 'miss', 'shout'], \n",
       "       dtype='<U27'), array(['parti'], \n",
       "       dtype='<U27'), array(['back', 'can', 'charg', 'got', 'never', 'someon', 'switch',\n",
       "        'though', 'tri'], \n",
       "       dtype='<U27'), array(['along', 'anyth', 'call', 'line', 'you'], \n",
       "       dtype='<U27'), array(['brand', 'co', 'http', 'market', 'point'], \n",
       "       dtype='<U27'), array(['co', 'everi', 'hot', 'http', 'my', 'time'], \n",
       "       dtype='<U27'), array(['don', 'know'], \n",
       "       dtype='<U27'), array(['choic', 'everi', 'like', 'lol', 'other', 'realli', 'song', 'tbh'], \n",
       "       dtype='<U27'), array(['tweet'], \n",
       "       dtype='<U27'), array(['articl', 'first', 'lol', 'read'], \n",
       "       dtype='<U27'), array(['alway', 'asleep', 'babi', 'enough', 'fall', 'feel', 'get', 'hate',\n",
       "        'like', 'night', 'not', 'sleep', 'time', 'wake', 'work'], \n",
       "       dtype='<U27'), array(['khan', 'realli'], \n",
       "       dtype='<U27'), array(['follback', 'justinbieb', 'pl'], \n",
       "       dtype='<U27'), array(['bajrangibhaijaanhighestweek', 'love', 'si'], \n",
       "       dtype='<U27'), array(['ladi', 'sp'], \n",
       "       dtype='<U27'), array(['amp', 'go', 'good', 'idea', 'meet', 'never', 'realli'], \n",
       "       dtype='<U27'), array(['all', 'crazi', 'fan', 'get', 'head', 'heart', 'like', 'not',\n",
       "        'race', 'to', 'want'], \n",
       "       dtype='<U27'), array(['ab', 'call', 'power', 'quit'], \n",
       "       dtype='<U27'), array(['am', 'amp', 'haven', 'slept'], \n",
       "       dtype='<U27'), array(['allow', 'and', 'bomb', 'one', 'usa', 'use'], \n",
       "       dtype='<U27'), array(['back', 'final', 'left', 'out', 'school', 'three', 'week'], \n",
       "       dtype='<U27'), array(['alway', 'friday', 'happen', 'is', 'not', 'problem', 'suppos',\n",
       "        'tgif', 'want', 'what', 'win'], \n",
       "       dtype='<U27'), array(['come', 'final', 'it', 'thought', 'time'], \n",
       "       dtype='<U27'), array(['charg', 'earlier', 'final', 'got', 'today'], \n",
       "       dtype='<U27'), array(['day', 'tomorrow'], \n",
       "       dtype='<U27'), array(['twitter'], \n",
       "       dtype='<U27'), array(['choiceinternationalartist', 'superjunior', 'teenchoic', 'total'], \n",
       "       dtype='<U27'), array(['love'], \n",
       "       dtype='<U27'), array(['fun', 'love', 'stage', 'super', 'though', 'watch', 'would'], \n",
       "       dtype='<U27'), array(['met', 'togeth', 'vidcon'], \n",
       "       dtype='<U27'), array(['co', 'https', 'man', 'rain', 'sing'], \n",
       "       dtype='<U27'), array(['ask', 'awww', 'duck', 'go', 'mix'], \n",
       "       dtype='<U27'), array(['best', 'chocol', 'love', 'store'], \n",
       "       dtype='<U27'), array(['lol', 'make', 'use'], \n",
       "       dtype='<U27'), array(['course', 'ha', 'one', 'talk', 'that', 'wasn'], \n",
       "       dtype='<U27'), array(['com'], \n",
       "       dtype='<U27'), array(['that'], \n",
       "       dtype='<U27'), array(['fever', 'final'], \n",
       "       dtype='<U27'), array(['co', 'https', 'pass', 'station', 'west'], \n",
       "       dtype='<U27'), array(['ye'], \n",
       "       dtype='<U27'), array(['add', 'chat', 'co', 'guy', 'hornykik', 'http', 'kik', 'snapm',\n",
       "        'summer'], \n",
       "       dtype='<U27'), array(['leed', 'never', 'rt', 'tweet', 'ugh'], \n",
       "       dtype='<U27'), array(['begin', 'catch', 'co', 'could', 'final', 'game', 'games', 'got',\n",
       "        'http', 'isn', 'let', 'ps', 'say', 'sigh', 'time', 'wish', 'work'], \n",
       "       dtype='<U27'), array(['add', 'don', 'eyes', 'forget', 'loui', 'playlist', 'so', 'song',\n",
       "        'wed'], \n",
       "       dtype='<U27'), array(['cloth', 'mum', 'pick', 'pleas', 'stop'], \n",
       "       dtype='<U27'), array(['act', 'can', 'day', 'gone', 'keep', 'like', 'make', 'mom', 'posit',\n",
       "        'tho'], \n",
       "       dtype='<U27'), array(['busi', 'feel', 'happened', 'home', 'know', 'offic'], \n",
       "       dtype='<U27'), array(['also', 'don', 'experi', 'forget', 'icecream', 'share', 'stay',\n",
       "        'uber', 'us'], \n",
       "       dtype='<U27'), array(['chanc', 'could', 'sing', 'song', 'wish', 'you'], \n",
       "       dtype='<U27'), array(['co', 'feel', 'gt', 'http', 'lt', 'station'], \n",
       "       dtype='<U27'), array(['famili', 'friend', 'gt'], \n",
       "       dtype='<U27'), array(['last', 'night', 'one', 'pretti', 'sure', 'women', 'worst'], \n",
       "       dtype='<U27'), array(['alon', 'home'], \n",
       "       dtype='<U27'), array(['lt'], \n",
       "       dtype='<U27'), array(['arm', 'happen'], \n",
       "       dtype='<U27'), array(['alreadi', 'hi', 'sorry', 'sponsor'], \n",
       "       dtype='<U27'), array(['edit', 'guy', 'someth', 'special', 'still', 'suck', 'turn'], \n",
       "       dtype='<U27'), array(['okay'], \n",
       "       dtype='<U27'), array(['read'], \n",
       "       dtype='<U27'), array(['fail', 'man', 'plan', 'suppos'], \n",
       "       dtype='<U27'), array(['basic', 'can', 'digit', 'feel', 'help', 'noth', 'paint', 'seem',\n",
       "        'stupid'], \n",
       "       dtype='<U27'), array(['best', 'dm', 'do', 'give', 'guy', 'harri', 'help', 'mean', 'much',\n",
       "        'solo', 'style', 'us', 'would'], \n",
       "       dtype='<U27'), array(['best', 'co', 'end', 'http', 'show', 'uk'], \n",
       "       dtype='<U27'), array(['instagram'], \n",
       "       dtype='<U27'), array(['all', 'good', 'oh', 'sound'], \n",
       "       dtype='<U27'), array(['amp', 'jacob'], \n",
       "       dtype='<U27'), array(['dm', 'me'], \n",
       "       dtype='<U27'), array(['check', 'everyon', 'peopl', 'wanna'], \n",
       "       dtype='<U27'), array(['bhaktisbant', 'flipkartfashionfriday', 'hey', 'join', 'win'], \n",
       "       dtype='<U27'), array(['infinit', 'win'], \n",
       "       dtype='<U27'), array(['cover'], \n",
       "       dtype='<U27'), array(['agre', 'haha'], \n",
       "       dtype='<U27'), array(['cri', 'lot', 'make', 'one'], \n",
       "       dtype='<U27'), array(['go', 'im', 'somewher'], \n",
       "       dtype='<U27'), array(['but', 'not', 'yes'], \n",
       "       dtype='<U27'), array(['first', 'go', 'let', 'mr', 'sleep', 'wait'], \n",
       "       dtype='<U27'), array(['like', 'origin', 'rest', 'share', 'wonder'], \n",
       "       dtype='<U27'), array(['big', 'get'], \n",
       "       dtype='<U27'), array(['arm', 'hug', 'like', 'oppa', 'ur'], \n",
       "       dtype='<U27'), array(['beauti', 'followback', 'girl', 'today'], \n",
       "       dtype='<U27'), array(['right', 'wouldn'], \n",
       "       dtype='<U27'), array(['add', 'co', 'guy', 'http', 'kik', 'kikmeboy', 'sc', 'wife'], \n",
       "       dtype='<U27'), array(['calum', 'co', 'facetim', 'https', 'luke', 'messag', 'weekend'], \n",
       "       dtype='<U27'), array(['go', 'home'], \n",
       "       dtype='<U27'), array(['event', 'find', 'it', 'last', 'night', 'photo', 'took', 'us'], \n",
       "       dtype='<U27'), array(['check', 'co', 'eye', 'https', 'up'], \n",
       "       dtype='<U27'), array(['home'], \n",
       "       dtype='<U27'), array(['becom', 'develop', 'india'], \n",
       "       dtype='<U27'), array(['get', 'park'], \n",
       "       dtype='<U27'), array(['address', 'congratul', 'contact', 'contest', 'dm', 'number',\n",
       "        'pleas', 'us'], \n",
       "       dtype='<U27'), array(['not'], \n",
       "       dtype='<U27'), array(['car', 'haven', 'ye'], \n",
       "       dtype='<U27'), array(['need', 'yeah'], \n",
       "       dtype='<U27'), array(['last', 'see', 'time', 'wed', 'year'], \n",
       "       dtype='<U27'), array(['coz', 'love', 'wforwoman', 'wsalelov'], \n",
       "       dtype='<U27'), array(['tweet', 'ty', 'uk'], \n",
       "       dtype='<U27'), array([], \n",
       "       dtype='<U27'), array(['co', 'http', 'photo'], \n",
       "       dtype='<U27'), array(['happi', 'it', 'mayb', 'oh', 'peopl', 'post', 'realli', 'saw',\n",
       "        'seen', 'who'], \n",
       "       dtype='<U27'), array(['bad'], \n",
       "       dtype='<U27'), array(['ab', 'could', 'gym', 'time'], \n",
       "       dtype='<U27'), array(['come', 'hous'], \n",
       "       dtype='<U27'), array(['almost', 'co', 'futur', 'https'], \n",
       "       dtype='<U27'), array(['like', 'nobodi'], \n",
       "       dtype='<U27'), array(['rt', 'spree'], \n",
       "       dtype='<U27'), array(['cute', 'look'], \n",
       "       dtype='<U27'), array(['believ', 'deliv', 'everyon', 'fail', 'turn', 'want'], \n",
       "       dtype='<U27'), array(['cc', 'idea', 'no'], \n",
       "       dtype='<U27'), array(['babe', 'convers', 'read', 'still', 'ur'], \n",
       "       dtype='<U27'), array(['bby', 'love', 'thank', 'too'], \n",
       "       dtype='<U27'), array(['made', 'thank'], \n",
       "       dtype='<U27'), array(['alreadi', 'back', 'follow', 'oppa'], \n",
       "       dtype='<U27'), array(['guess', 'know', 'll', 'never', 'sometim', 'went', 'wonder', 'wrong'], \n",
       "       dtype='<U27'), array(['alreadi', 'amaz', 'caus', 'fun', 'futur', 'morn', 'night', 'not',\n",
       "        'realli', 'right', 'too', 'weekend'], \n",
       "       dtype='<U27'), array(['cool', 'play', 'pro', 'would'], \n",
       "       dtype='<U27'), array(['anytim', 'better', 'get', 'll', 'soon'], \n",
       "       dtype='<U27'), array(['amp', 'app', 'car', 'rain', 'say', 'sit', 'tomorrow', 'tonight',\n",
       "        'watch', 'weather'], \n",
       "       dtype='<U27'), array(['check', 'film', 'game', 'guess', 'haha', 'like', 'not', 'though',\n",
       "        'video', 'wolf'], \n",
       "       dtype='<U27'), array(['awwww', 'btw', 'heard', 'ka', 'know', 'miss', 'sa', 'thank'], \n",
       "       dtype='<U27'), array(['alreadi', 'follow'], \n",
       "       dtype='<U27'), array(['co', 'http', 'kikm', 'kikmeboy', 'sexi', 'snapchat', 'uk', 'woman'], \n",
       "       dtype='<U27'), array(['co', 'http'], \n",
       "       dtype='<U27'), array(['louis', 'monday', 'next', 'school', 'start', 'tomlinson'], \n",
       "       dtype='<U27'), array(['amp', 'drop', 'work', 'would'], \n",
       "       dtype='<U27'), array(['co', 'http', 'jackgilinski'], \n",
       "       dtype='<U27'), array(['best', 'day', 'ever', 'like', 'srsli', 'today'], \n",
       "       dtype='<U27'), array(['broke', 'got', 'great'], \n",
       "       dtype='<U27'), array(['ah', 'aren', 'emma', 'season'], \n",
       "       dtype='<U27'), array(['bestfriend', 'psygustokita'], \n",
       "       dtype='<U27'), array(['also', 'follow', 'got', 'last', 'life', 'me', 'name', 'pic',\n",
       "        'ruin', 'turn', 'wife'], \n",
       "       dtype='<U27'), array(['art', 'co', 'cool', 'draw', 'hair', 'http', 'love', 'pretti',\n",
       "        'turn'], \n",
       "       dtype='<U27'), array(['hit', 'rain', 'sound', 'wake', 'yay'], \n",
       "       dtype='<U27'), array(['dress', 'pretti'], \n",
       "       dtype='<U27'), array(['knock', 'said'], \n",
       "       dtype='<U27'), array(['didnt', 'earlier', 'join', 'wait'], \n",
       "       dtype='<U27'), array(['detail', 'dm', 'get', 'hey', 'no', 'pleas', 'share', 'via',\n",
       "        'wallet'], \n",
       "       dtype='<U27'), array(['awak', 'still'], \n",
       "       dtype='<U27'), array([], \n",
       "       dtype='<U27'), array(['app', 'chat', 'contact', 'get', 'hi', 'in', 'pleas', 'support',\n",
       "        'time'], \n",
       "       dtype='<U27'), array(['days', 'heart', 'load', 'mani'], \n",
       "       dtype='<U27'), array([], \n",
       "       dtype='<U27'), array(['convers', 'go', 'oh', 'well'], \n",
       "       dtype='<U27'), array(['co', 'https', 'that'], \n",
       "       dtype='<U27'), array([], \n",
       "       dtype='<U27'), array(['forward', 'look', 'movi', 'turn'], \n",
       "       dtype='<U27'), array(['anyon', 'co', 'great', 'http', 'need', 'one', 'set', 'won'], \n",
       "       dtype='<U27'), array([], \n",
       "       dtype='<U27'), array([], \n",
       "       dtype='<U27'), array(['co', 'forward', 'https', 'look', 'review'], \n",
       "       dtype='<U27'), array(['breakfast', 'chees', 'tri', 'with'], \n",
       "       dtype='<U27'), array(['don', 'got', 'haha', 'hope', 'quit', 'tho', 'work'], \n",
       "       dtype='<U27'), array(['know', 'thing', 'women'], \n",
       "       dtype='<U27'), array(['edit', 'first', 'list'], \n",
       "       dtype='<U27'), array(['card', 'greet', 'job', 'lay', 'love', 'rang', 'today'], \n",
       "       dtype='<U27'), array(['effect', 'link', 'releas'], \n",
       "       dtype='<U27'), array(['chill', 'doesn', 'even', 'it', 'like', 'main', 'mix', 'one',\n",
       "        'sound'], \n",
       "       dtype='<U27'), array(['babi', 'hide'], \n",
       "       dtype='<U27'), array(['freak', 'gonna', 'not'], \n",
       "       dtype='<U27'), array(['drop', 'love', 'town', 'train', 'we', 'week', 'your'], \n",
       "       dtype='<U27'), array(['lead'], \n",
       "       dtype='<U27'), array(['better', 'get', 'tweet'], \n",
       "       dtype='<U27'), array(['anybodi', 'collect', 'episod', 'pa', 'suit'], \n",
       "       dtype='<U27'), array(['oh'], \n",
       "       dtype='<U27'), array(['be', 'choic', 'due', 'episod', 'latest', 'no', 'phone', 'problem',\n",
       "        'song', 'st', 'updat', 'ur', 'view', 'youtub'], \n",
       "       dtype='<U27'), array(['okay'], \n",
       "       dtype='<U27'), array(['die', 'front', 'like', 'liter'], \n",
       "       dtype='<U27'), array(['alreadi', 'big', 'board', 'feel', 'pain', 'thought'], \n",
       "       dtype='<U27'), array(['behind', 'hide', 'shower'], \n",
       "       dtype='<U27'), array(['fast', 'go', 'hahahaha', 'moment', 'not', 'without'], \n",
       "       dtype='<U27'), array(['again', 'food'], \n",
       "       dtype='<U27'), array(['ask', 'convers', 'go', 'middl', 'rude', 'sleep', 'someon',\n",
       "        'someth', 'wtf'], \n",
       "       dtype='<U27'), array(['cream', 'favourit', 'teeth', 'too'], \n",
       "       dtype='<U27'), array(['home', 'rather', 'super', 'thing', 'work'], \n",
       "       dtype='<U27'), array(['ass', 'awww', 'dear', 'dont', 'get', 'michael', 'so', 'use',\n",
       "        'worri'], \n",
       "       dtype='<U27'), array(['boy', 'bye', 'hug', 'laugh', 'like', 'love', 'said', 'that'], \n",
       "       dtype='<U27'), array(['away', 'best', 'came', 'check', 'ever', 'lucki', 'ok', 'pass',\n",
       "        'rip', 'she', 'went'], \n",
       "       dtype='<U27'), array(['black', 'blue', 'co', 'https'], \n",
       "       dtype='<U27'), array(['appreci'], \n",
       "       dtype='<U27'), array(['come', 'out', 'pic'], \n",
       "       dtype='<U27'), array(['go', 'last', 'stage'], \n",
       "       dtype='<U27'), array(['co', 'fuck', 'get', 'https'], \n",
       "       dtype='<U27'), array(['guy', 'here', 'right', 'who'], \n",
       "       dtype='<U27'), array(['drive', 'final', 'tonight', 'went'], \n",
       "       dtype='<U27'), array(['actual', 'need', 'stop', 'tweet'], \n",
       "       dtype='<U27'), array(['awak', 'cough'], \n",
       "       dtype='<U27'), array(['co', 'didn', 'http', 'like', 'style', 'time'], \n",
       "       dtype='<U27'), array(['box', 'issu', 'manag', 'mate', 'nobodi', 'offic', 'pick', 'rang',\n",
       "        'sort', 'ticket'], \n",
       "       dtype='<U27'), array(['noth', 'there'], \n",
       "       dtype='<U27'), array(['could', 'egg', 'face', 'say'], \n",
       "       dtype='<U27'), array(['food'], \n",
       "       dtype='<U27'), array(['media', 'tell', 'won'], \n",
       "       dtype='<U27'), array(['alway', 'always', 'co', 'http', 'ko', 'pa', 'reason'], \n",
       "       dtype='<U27'), array(['day', 'gorgeou', 'im', 'made', 'told', 'walk', 'work'], \n",
       "       dtype='<U27'), array(['good', 'idea', 'instead', 'oh', 'right', 'that'], \n",
       "       dtype='<U27'), array(['account', 'hit', 'lunch', 'meant', 'time', 'us'], \n",
       "       dtype='<U27'), array(['amp', 'detail', 'dm', 'get', 'hi', 'pass', 'team', 'touch'], \n",
       "       dtype='<U27'), array(['mani'], \n",
       "       dtype='<U27'), array(['care', 'long', 'no', 'not', 'trust', 'well'], \n",
       "       dtype='<U27'), array(['brilliant', 'co', 'http', 'last', 'lead', 'need', 'peopl', 'read',\n",
       "        'thing', 'vote', 'want'], \n",
       "       dtype='<U27'), array(['co', 'death', 'ew', 'http', 'talk', 'via'], \n",
       "       dtype='<U27'), array(['good', 'look', 'want'], \n",
       "       dtype='<U27'), array([], \n",
       "       dtype='<U27'), array(['hi'], \n",
       "       dtype='<U27'), array(['make', 'smile'], \n",
       "       dtype='<U27'), array(['comment', 'far', 'pleas', 'think', 'wrote'], \n",
       "       dtype='<U27'), array(['can', 'day', 'dog', 'enough', 'everi', 'stress'], \n",
       "       dtype='<U27'), array([], \n",
       "       dtype='<U27'), array(['anyth', 'co', 'don', 'feel', 'guys', 'https', 'like', 'mean',\n",
       "        'not', 'yeah'], \n",
       "       dtype='<U27'), array(['bring', 'fb', 'hey', 'mari', 'share'], \n",
       "       dtype='<U27'), array(['go', 'lol', 'money', 'omg', 'well', 'win'], \n",
       "       dtype='<U27'), array(['day', 'madrid', 'man', 'match', 'real', 'vs'], \n",
       "       dtype='<U27'), array([], \n",
       "       dtype='<U27'), array(['bday', 'co', 'http', 'lt'], \n",
       "       dtype='<U27'), array(['make', 'quick', 'run', 'store', 'take'], \n",
       "       dtype='<U27'), array(['catch', 'go', 'last', 'page', 'player', 'section', 'want', 'year',\n",
       "        'youtub'], \n",
       "       dtype='<U27'), array(['girl', 'its', 'sometim'], \n",
       "       dtype='<U27'), array(['ago', 'didn', 'enough', 'give', 'hug', 'luv', 'nice', 'see',\n",
       "        'sorri', 'tire'], \n",
       "       dtype='<U27'), array(['co', 'hornykik', 'http', 'kiksext', 'likeforlik', 'music',\n",
       "        'snapchat'], \n",
       "       dtype='<U27'), array(['get', 'll', 'manag', 'mayb', 'rain', 'weekend'], \n",
       "       dtype='<U27'), array(['dad', 'either', 'food', 'home', 'kitchen', 'money', 'month', 'no',\n",
       "        'thank', 'wallet'], \n",
       "       dtype='<U27'), array(['complet', 'entir', 'no', 'right', 'seri', 'that', 'true', 'watch'], \n",
       "       dtype='<U27'), array([], \n",
       "       dtype='<U27'), array(['aren', 'back', 'follow'], \n",
       "       dtype='<U27'), array(['anyth', 'feel', 'hurt', 'like', 'not', 'right'], \n",
       "       dtype='<U27'), array(['except', 'havent', 'made', 'starbuck', 'year'], \n",
       "       dtype='<U27'), array(['could', 'don', 'googl', 'guy', 'say', 'that', 'use'], \n",
       "       dtype='<U27'), array(['chelsea'], \n",
       "       dtype='<U27'), array(['get', 'home', 'wake'], \n",
       "       dtype='<U27'), array(['bad', 'come', 'everi', 'not', 'one'], \n",
       "       dtype='<U27'), array(['appli', 'definit', 'nope', 'still', 'want', 'year'], \n",
       "       dtype='<U27'), array(['brown', 'chri'], \n",
       "       dtype='<U27'), array(['expect', 'support', 'week'], \n",
       "       dtype='<U27'), array(['co', 'get', 'http', 'mo', 'soon', 'thankyou', 'well'], \n",
       "       dtype='<U27'), array(['anoth', 'away', 'cant', 'home', 'hour', 'im', 'insid', 'person',\n",
       "        'station', 'still', 'train', 'wait'], \n",
       "       dtype='<U27'), array(['saturday'], \n",
       "       dtype='<U27'), array(['come'], \n",
       "       dtype='<U27'), array(['co', 'found', 'guy', 'http', 'littl', 'no', 'rp', 'store'], \n",
       "       dtype='<U27'), array(['amp', 'coz', 'hai', 'news', 'normal', 'tim'], \n",
       "       dtype='<U27'), array(['garden', 'new'], \n",
       "       dtype='<U27'), array(['co', 'hope', 'https', 'im'], \n",
       "       dtype='<U27'), array(['book', 'call', 'day', 'final', 'got', 'll', 'love', 'share',\n",
       "        'shot', 'tomorrow'], \n",
       "       dtype='<U27'), array(['happen', 'let', 'life', 'real', 'won'], \n",
       "       dtype='<U27'), array(['co', 'high', 'http', 'lost', 'okay'], \n",
       "       dtype='<U27'), array(['co', 'https', 'true'], \n",
       "       dtype='<U27'), array([], \n",
       "       dtype='<U27'), array(['find'], \n",
       "       dtype='<U27'), array(['amp', 'big', 'chang', 'develop', 'got', 'site', 'websit', 'word'], \n",
       "       dtype='<U27'), array(['buy', 'come', 'normal'], \n",
       "       dtype='<U27'), array(['need', 'no', 'of', 'queen', 'stress', 'time'], \n",
       "       dtype='<U27'), array(['can', 'dat', 'dm', 'sleep'], \n",
       "       dtype='<U27'), array(['mean', 'new', 'safe', 'still'], \n",
       "       dtype='<U27'), array(['cat'], \n",
       "       dtype='<U27'), array(['australia', 'matter', 'move', 'time'], \n",
       "       dtype='<U27'), array(['front', 'mention', 'omg', 'oppa', 'pleas', 'poor', 'singl', 'stop'], \n",
       "       dtype='<U27'), array(['hey'], \n",
       "       dtype='<U27'), array(['stuff'], \n",
       "       dtype='<U27'), array(['anoth', 'chang', 'co', 'http', 'member', 'must', 'new',\n",
       "        'understand', 'woman', 'yet'], \n",
       "       dtype='<U27'), array(['start'], \n",
       "       dtype='<U27'), array(['listen', 'radio'], \n",
       "       dtype='<U27'), array(['babi', 'before', 'co', 'enjoy', 'http', 'mom', 'photo', 'when'], \n",
       "       dtype='<U27'), array(['alright', 'love', 'that'], \n",
       "       dtype='<U27'), array(['co', 'http', 'jgh'], \n",
       "       dtype='<U27'), array(['add', 'co', 'hot', 'http', 'kik', 'kikgirl', 'pussi', 'snapchat'], \n",
       "       dtype='<U27'), array(['doesn', 'win'], \n",
       "       dtype='<U27'), array(['buy', 'check', 'co', 'email', 'http', 'market', 'regret', 'won'], \n",
       "       dtype='<U27'), array(['might'], \n",
       "       dtype='<U27'), array(['book', 'co', 'coffe', 'holiday', 'https', 'outsid', 'read'], \n",
       "       dtype='<U27'), array(['alway', 'ever', 'know', 'music', 'open', 'want'], \n",
       "       dtype='<U27'), array(['abl', 'consid', 'full', 'job', 'like', 'move', 'stuff', 'take',\n",
       "        'time', 'work', 'would'], \n",
       "       dtype='<U27'), array(['gold', 'point'], \n",
       "       dtype='<U27'), array(['get', 'll', 'meet', 'text', 'wanna'], \n",
       "       dtype='<U27'), array(['dear', 'how', 'new', 'today'], \n",
       "       dtype='<U27'), array(['come', 'hope', 'point', 'rain', 'stop'], \n",
       "       dtype='<U27'), array(['everi', 'go', 'life', 'one', 'school', 'still', 'what', 'year'], \n",
       "       dtype='<U27'), array(['co', 'friend', 'http', 'ladi', 'like', 'mani', 'meet', 'no',\n",
       "        'preciou', 'real'], \n",
       "       dtype='<U27'), array(['ye'], \n",
       "       dtype='<U27'), array(['everyon', 'love'], \n",
       "       dtype='<U27')]"
      ]
     },
     "execution_count": 113,
     "metadata": {},
     "output_type": "execute_result"
    }
   ],
   "source": [
    "cv.inverse_transform(X_test[incorrect])"
   ]
  },
  {
   "cell_type": "code",
   "execution_count": null,
   "metadata": {
    "collapsed": true
   },
   "outputs": [],
   "source": []
  }
 ],
 "metadata": {
  "hide_input": false,
  "kernelspec": {
   "display_name": "Python 3",
   "language": "python",
   "name": "python3"
  },
  "language_info": {
   "codemirror_mode": {
    "name": "ipython",
    "version": 3
   },
   "file_extension": ".py",
   "mimetype": "text/x-python",
   "name": "python",
   "nbconvert_exporter": "python",
   "pygments_lexer": "ipython3",
   "version": "3.6.1"
  },
  "toc": {
   "base_numbering": 1,
   "nav_menu": {},
   "number_sections": false,
   "sideBar": true,
   "skip_h1_title": false,
   "title_cell": "Table of Contents",
   "title_sidebar": "Contents",
   "toc_cell": false,
   "toc_position": {},
   "toc_section_display": true,
   "toc_window_display": false
  },
  "varInspector": {
   "cols": {
    "lenName": 16,
    "lenType": 16,
    "lenVar": 40
   },
   "kernels_config": {
    "python": {
     "delete_cmd_postfix": "",
     "delete_cmd_prefix": "del ",
     "library": "var_list.py",
     "varRefreshCmd": "print(var_dic_list())"
    },
    "r": {
     "delete_cmd_postfix": ") ",
     "delete_cmd_prefix": "rm(",
     "library": "var_list.r",
     "varRefreshCmd": "cat(var_dic_list()) "
    }
   },
   "position": {
    "height": "227px",
    "left": "244px",
    "right": "88px",
    "top": "131px",
    "width": "350px"
   },
   "types_to_exclude": [
    "module",
    "function",
    "builtin_function_or_method",
    "instance",
    "_Feature"
   ],
   "window_display": false
  }
 },
 "nbformat": 4,
 "nbformat_minor": 2
}
