{
 "cells": [
  {
   "cell_type": "markdown",
   "metadata": {},
   "source": [
    "### Import all required libraries"
   ]
  },
  {
   "cell_type": "code",
   "execution_count": 212,
   "metadata": {
    "ExecuteTime": {
     "end_time": "2018-09-13T02:22:38.454629Z",
     "start_time": "2018-09-13T02:22:37.890133Z"
    }
   },
   "outputs": [],
   "source": [
    "import numpy as np\n",
    "import pandas as pd\n",
    "import matplotlib.pyplot as plt\n",
    "from IPython.display import display\n",
    "from nltk.corpus import twitter_samples\n",
    "from nltk.corpus import stopwords\n",
    "from nltk.stem.porter import PorterStemmer\n",
    "from sklearn.feature_extraction.text import CountVectorizer\n",
    "from sklearn.cross_validation import train_test_split\n",
    "from sklearn.naive_bayes import GaussianNB\n",
    "from sklearn.tree import DecisionTreeClassifier\n",
    "from sklearn.svm import SVC\n",
    "from sklearn.neighbors import KNeighborsClassifier\n",
    "from sklearn.ensemble import RandomForestClassifier\n",
    "from sklearn.metrics import confusion_matrix\n",
    "import re\n",
    "from nltk.tokenize.casual import EMOTICON_RE\n",
    "% matplotlib inline"
   ]
  },
  {
   "cell_type": "markdown",
   "metadata": {},
   "source": [
    "### Setup twitter dataset"
   ]
  },
  {
   "cell_type": "code",
   "execution_count": 189,
   "metadata": {
    "ExecuteTime": {
     "end_time": "2018-09-13T02:11:44.170327Z",
     "start_time": "2018-09-13T02:11:44.148171Z"
    },
    "scrolled": true
   },
   "outputs": [
    {
     "data": {
      "text/plain": [
       "['negative_tweets.json', 'positive_tweets.json', 'tweets.20150430-223406.json']"
      ]
     },
     "execution_count": 189,
     "metadata": {},
     "output_type": "execute_result"
    }
   ],
   "source": [
    "twitter_samples.fileids()"
   ]
  },
  {
   "cell_type": "code",
   "execution_count": 190,
   "metadata": {
    "ExecuteTime": {
     "end_time": "2018-09-13T02:11:47.324184Z",
     "start_time": "2018-09-13T02:11:45.107337Z"
    }
   },
   "outputs": [],
   "source": [
    "pos_tweets = twitter_samples.strings('positive_tweets.json')\n",
    "neg_tweets = twitter_samples.strings('negative_tweets.json')"
   ]
  },
  {
   "cell_type": "code",
   "execution_count": 191,
   "metadata": {
    "ExecuteTime": {
     "end_time": "2018-09-13T02:11:48.956081Z",
     "start_time": "2018-09-13T02:11:48.919408Z"
    }
   },
   "outputs": [],
   "source": [
    "pos_dataset = pd.DataFrame(pos_tweets,columns=['Tweet'])\n",
    "pos_dataset['Sentiment'] = 1\n",
    "neg_dataset = pd.DataFrame(neg_tweets,columns=['Tweet'])\n",
    "neg_dataset['Sentiment'] = 0\n",
    "\n",
    "dataset = pos_dataset.append(neg_dataset,ignore_index=True)"
   ]
  },
  {
   "cell_type": "code",
   "execution_count": 99,
   "metadata": {
    "ExecuteTime": {
     "end_time": "2018-09-04T17:24:57.749845Z",
     "start_time": "2018-09-04T17:24:57.745844Z"
    },
    "collapsed": true
   },
   "outputs": [],
   "source": [
    "#dataset = dataset.sample(frac=1)"
   ]
  },
  {
   "cell_type": "markdown",
   "metadata": {},
   "source": [
    "### Cleanup and tokenize the text data"
   ]
  },
  {
   "cell_type": "code",
   "execution_count": 192,
   "metadata": {
    "ExecuteTime": {
     "end_time": "2018-09-13T02:11:57.079523Z",
     "start_time": "2018-09-13T02:11:57.039918Z"
    }
   },
   "outputs": [],
   "source": [
    "negation_words = set(['no','not'] + [word for word in stopwords.words('english') if re.search(\"n'\",word)])\n",
    "unwanted_words = set(stopwords.words('english')).difference(negation_words)\n",
    "ps = PorterStemmer()\n",
    "\n",
    "def tokenize(raw_tweet):\n",
    "    emoticons = set(EMOTICON_RE.findall(raw_tweet))\n",
    "    raw_tweet = raw_tweet.split()\n",
    "    tweet = []\n",
    "    for word in raw_tweet:\n",
    "        if word in emoticons:\n",
    "            tweet.append(word)\n",
    "            continue\n",
    "        elif word.lower() not in unwanted_words:\n",
    "            word = re.sub(\"[^a-zA-Z]\",\" \",word)\n",
    "            tweet.append(ps.stem(word.lower()))\n",
    "    tweet = \" \".join(tweet)\n",
    "    return tweet"
   ]
  },
  {
   "cell_type": "code",
   "execution_count": 193,
   "metadata": {
    "ExecuteTime": {
     "end_time": "2018-09-13T02:12:03.451281Z",
     "start_time": "2018-09-13T02:11:59.566514Z"
    }
   },
   "outputs": [],
   "source": [
    "dataset['corpus'] = dataset['Tweet'].apply(tokenize)"
   ]
  },
  {
   "cell_type": "code",
   "execution_count": 194,
   "metadata": {
    "ExecuteTime": {
     "end_time": "2018-09-13T02:12:16.090637Z",
     "start_time": "2018-09-13T02:12:16.062828Z"
    }
   },
   "outputs": [
    {
     "data": {
      "text/html": [
       "<div>\n",
       "<style>\n",
       "    .dataframe thead tr:only-child th {\n",
       "        text-align: right;\n",
       "    }\n",
       "\n",
       "    .dataframe thead th {\n",
       "        text-align: left;\n",
       "    }\n",
       "\n",
       "    .dataframe tbody tr th {\n",
       "        vertical-align: top;\n",
       "    }\n",
       "</style>\n",
       "<table border=\"1\" class=\"dataframe\">\n",
       "  <thead>\n",
       "    <tr style=\"text-align: right;\">\n",
       "      <th></th>\n",
       "      <th>Tweet</th>\n",
       "      <th>Sentiment</th>\n",
       "      <th>corpus</th>\n",
       "    </tr>\n",
       "  </thead>\n",
       "  <tbody>\n",
       "    <tr>\n",
       "      <th>0</th>\n",
       "      <td>#FollowFriday @France_Inte @PKuchly57 @Milipol...</td>\n",
       "      <td>1</td>\n",
       "      <td>followfriday  france int  pkuchly    milipol ...</td>\n",
       "    </tr>\n",
       "    <tr>\n",
       "      <th>1</th>\n",
       "      <td>@Lamb2ja Hey James! How odd :/ Please call our...</td>\n",
       "      <td>1</td>\n",
       "      <td>lamb ja hey james  odd :/ pleas call contact ...</td>\n",
       "    </tr>\n",
       "    <tr>\n",
       "      <th>2</th>\n",
       "      <td>@DespiteOfficial we had a listen last night :)...</td>\n",
       "      <td>1</td>\n",
       "      <td>despiteoffici listen last night :) bleed amaz...</td>\n",
       "    </tr>\n",
       "    <tr>\n",
       "      <th>3</th>\n",
       "      <td>@97sides CONGRATS :)</td>\n",
       "      <td>1</td>\n",
       "      <td>side congrat :)</td>\n",
       "    </tr>\n",
       "    <tr>\n",
       "      <th>4</th>\n",
       "      <td>yeaaaah yippppy!!!  my accnt verified rqst has...</td>\n",
       "      <td>1</td>\n",
       "      <td>yeaaaah yippppy    accnt verifi rqst succeed g...</td>\n",
       "    </tr>\n",
       "  </tbody>\n",
       "</table>\n",
       "</div>"
      ],
      "text/plain": [
       "                                               Tweet  Sentiment  \\\n",
       "0  #FollowFriday @France_Inte @PKuchly57 @Milipol...          1   \n",
       "1  @Lamb2ja Hey James! How odd :/ Please call our...          1   \n",
       "2  @DespiteOfficial we had a listen last night :)...          1   \n",
       "3                               @97sides CONGRATS :)          1   \n",
       "4  yeaaaah yippppy!!!  my accnt verified rqst has...          1   \n",
       "\n",
       "                                              corpus  \n",
       "0   followfriday  france int  pkuchly    milipol ...  \n",
       "1   lamb ja hey james  odd :/ pleas call contact ...  \n",
       "2   despiteoffici listen last night :) bleed amaz...  \n",
       "3                                    side congrat :)  \n",
       "4  yeaaaah yippppy    accnt verifi rqst succeed g...  "
      ]
     },
     "metadata": {},
     "output_type": "display_data"
    }
   ],
   "source": [
    "display(dataset.head())"
   ]
  },
  {
   "cell_type": "markdown",
   "metadata": {},
   "source": [
    "### Setup Matrices for ML model"
   ]
  },
  {
   "cell_type": "code",
   "execution_count": 213,
   "metadata": {
    "ExecuteTime": {
     "end_time": "2018-09-13T02:22:49.212510Z",
     "start_time": "2018-09-13T02:22:48.805574Z"
    }
   },
   "outputs": [],
   "source": [
    "cv = CountVectorizer(max_features = 1500)\n",
    "X = pd.DataFrame(cv.fit_transform(dataset['corpus']).toarray())\n",
    "y = dataset['Sentiment']"
   ]
  },
  {
   "cell_type": "code",
   "execution_count": 214,
   "metadata": {
    "ExecuteTime": {
     "end_time": "2018-09-13T02:22:50.747922Z",
     "start_time": "2018-09-13T02:22:50.603815Z"
    }
   },
   "outputs": [],
   "source": [
    "X_train, X_test, y_train, y_test = train_test_split(X,y,test_size = 0.15, random_state = 0)"
   ]
  },
  {
   "cell_type": "markdown",
   "metadata": {},
   "source": [
    "### Fit ML models"
   ]
  },
  {
   "cell_type": "code",
   "execution_count": 215,
   "metadata": {
    "ExecuteTime": {
     "end_time": "2018-09-13T02:29:44.270790Z",
     "start_time": "2018-09-13T02:22:53.043465Z"
    }
   },
   "outputs": [],
   "source": [
    "classifiers = [GaussianNB(),\n",
    "               DecisionTreeClassifier(criterion='entropy', random_state=0),\n",
    "               SVC(kernel = 'linear', random_state = 0),\n",
    "               KNeighborsClassifier(n_neighbors = 5, p = 2, metric = 'minkowski'),\n",
    "               RandomForestClassifier(n_estimators=100 , criterion='entropy', random_state=0)\n",
    "              ]\n",
    "y_pred = []\n",
    "for classifier in classifiers:\n",
    "    classifier.fit(X_train, y_train)\n",
    "    y_pred.append(classifier.predict(X_test))"
   ]
  },
  {
   "cell_type": "markdown",
   "metadata": {},
   "source": [
    "### View Results"
   ]
  },
  {
   "cell_type": "code",
   "execution_count": 216,
   "metadata": {
    "ExecuteTime": {
     "end_time": "2018-09-13T02:29:45.235773Z",
     "start_time": "2018-09-13T02:29:45.183421Z"
    }
   },
   "outputs": [
    {
     "name": "stdout",
     "output_type": "stream",
     "text": [
      "[[626 141]\n",
      " [387 346]] \n",
      "\n",
      "[[585 182]\n",
      " [251 482]] \n",
      "\n",
      "[[605 162]\n",
      " [217 516]] \n",
      "\n",
      "[[535 232]\n",
      " [253 480]] \n",
      "\n",
      "[[616 151]\n",
      " [228 505]] \n",
      "\n"
     ]
    }
   ],
   "source": [
    "cm = [confusion_matrix(y_test, y_p) for y_p in y_pred]\n",
    "for matrix in cm:\n",
    "    print(matrix,\"\\n\")"
   ]
  },
  {
   "cell_type": "code",
   "execution_count": 217,
   "metadata": {
    "ExecuteTime": {
     "end_time": "2018-09-13T02:29:46.178129Z",
     "start_time": "2018-09-13T02:29:46.155856Z"
    }
   },
   "outputs": [
    {
     "name": "stdout",
     "output_type": "stream",
     "text": [
      "0.648\n",
      "0.711333333333\n",
      "0.747333333333\n",
      "0.676666666667\n",
      "0.747333333333\n"
     ]
    }
   ],
   "source": [
    "for array in cm:\n",
    "    print(array.trace()/array.sum())"
   ]
  },
  {
   "cell_type": "code",
   "execution_count": 218,
   "metadata": {
    "ExecuteTime": {
     "end_time": "2018-09-13T02:30:44.227160Z",
     "start_time": "2018-09-13T02:30:44.156260Z"
    }
   },
   "outputs": [
    {
     "name": "stdout",
     "output_type": "stream",
     "text": [
      "http\n",
      "sad\n",
      "happi\n",
      "great\n",
      "thank\n",
      "love\n",
      "good\n",
      "miss\n",
      "co\n",
      "can\n"
     ]
    }
   ],
   "source": [
    "num_maxes = 10\n",
    "feature_argmaxes = np.argpartition(-classifier.feature_importances_,num_maxes)[:num_maxes]\n",
    "for arg in feature_argmaxes:\n",
    "    print(cv.get_feature_names()[arg])"
   ]
  },
  {
   "cell_type": "code",
   "execution_count": 201,
   "metadata": {
    "ExecuteTime": {
     "end_time": "2018-09-13T02:13:42.034387Z",
     "start_time": "2018-09-13T02:13:42.015027Z"
    }
   },
   "outputs": [
    {
     "data": {
      "text/plain": [
       "array([ -1.13683180e-02,  -1.32368792e-02,  -2.27111610e-02, ...,\n",
       "        -0.00000000e+00,  -3.08188247e-05,  -0.00000000e+00])"
      ]
     },
     "execution_count": 201,
     "metadata": {},
     "output_type": "execute_result"
    }
   ],
   "source": [
    "np.partition(-classifier.feature_importances_,num_maxes)"
   ]
  },
  {
   "cell_type": "markdown",
   "metadata": {},
   "source": [
    "### Evaluate incorrect tweets"
   ]
  },
  {
   "cell_type": "code",
   "execution_count": 219,
   "metadata": {
    "ExecuteTime": {
     "end_time": "2018-09-13T02:32:08.623348Z",
     "start_time": "2018-09-13T02:32:08.600466Z"
    }
   },
   "outputs": [],
   "source": [
    "incorrect = y_test != y_pred[-1]"
   ]
  },
  {
   "cell_type": "code",
   "execution_count": 221,
   "metadata": {
    "ExecuteTime": {
     "end_time": "2018-09-13T02:32:37.505236Z",
     "start_time": "2018-09-13T02:32:37.470675Z"
    }
   },
   "outputs": [
    {
     "data": {
      "text/html": [
       "<div>\n",
       "<style>\n",
       "    .dataframe thead tr:only-child th {\n",
       "        text-align: right;\n",
       "    }\n",
       "\n",
       "    .dataframe thead th {\n",
       "        text-align: left;\n",
       "    }\n",
       "\n",
       "    .dataframe tbody tr th {\n",
       "        vertical-align: top;\n",
       "    }\n",
       "</style>\n",
       "<table border=\"1\" class=\"dataframe\">\n",
       "  <thead>\n",
       "    <tr style=\"text-align: right;\">\n",
       "      <th></th>\n",
       "      <th>Tweet</th>\n",
       "      <th>Sentiment</th>\n",
       "      <th>corpus</th>\n",
       "    </tr>\n",
       "  </thead>\n",
       "  <tbody>\n",
       "    <tr>\n",
       "      <th>5906</th>\n",
       "      <td>Twitter Help Center | Why can&amp;amp;#39;t I foll...</td>\n",
       "      <td>0</td>\n",
       "      <td>twitter help center   can amp     t follow peo...</td>\n",
       "    </tr>\n",
       "    <tr>\n",
       "      <th>2670</th>\n",
       "      <td>i drew @JustinNFJK :))\\n#WIP #SWS #crush @SWSt...</td>\n",
       "      <td>1</td>\n",
       "      <td>drew  justinnfjk      wip  sw  crush  swstheba...</td>\n",
       "    </tr>\n",
       "    <tr>\n",
       "      <th>6084</th>\n",
       "      <td>#Showbox the only thing that works is that nar...</td>\n",
       "      <td>0</td>\n",
       "      <td>showbox thing work naruto cartoon let keep fi...</td>\n",
       "    </tr>\n",
       "    <tr>\n",
       "      <th>3724</th>\n",
       "      <td>if u hardcore and stay up dis late favorite :)</td>\n",
       "      <td>1</td>\n",
       "      <td>u hardcor stay di late favorit :)</td>\n",
       "    </tr>\n",
       "    <tr>\n",
       "      <th>3184</th>\n",
       "      <td>Best ATP players (Wimbledon 2015): Federer, Na...</td>\n",
       "      <td>1</td>\n",
       "      <td>best atp player  wimbledon        federer  nad...</td>\n",
       "    </tr>\n",
       "  </tbody>\n",
       "</table>\n",
       "</div>"
      ],
      "text/plain": [
       "                                                  Tweet  Sentiment  \\\n",
       "5906  Twitter Help Center | Why can&amp;#39;t I foll...          0   \n",
       "2670  i drew @JustinNFJK :))\\n#WIP #SWS #crush @SWSt...          1   \n",
       "6084  #Showbox the only thing that works is that nar...          0   \n",
       "3724     if u hardcore and stay up dis late favorite :)          1   \n",
       "3184  Best ATP players (Wimbledon 2015): Federer, Na...          1   \n",
       "\n",
       "                                                 corpus  \n",
       "5906  twitter help center   can amp     t follow peo...  \n",
       "2670  drew  justinnfjk      wip  sw  crush  swstheba...  \n",
       "6084   showbox thing work naruto cartoon let keep fi...  \n",
       "3724                  u hardcor stay di late favorit :)  \n",
       "3184  best atp player  wimbledon        federer  nad...  "
      ]
     },
     "execution_count": 221,
     "metadata": {},
     "output_type": "execute_result"
    }
   ],
   "source": [
    "dataset.loc[y_test[incorrect].index,:].head()"
   ]
  },
  {
   "cell_type": "markdown",
   "metadata": {},
   "source": [
    "### Implement VADER method for comparison"
   ]
  },
  {
   "cell_type": "code",
   "execution_count": 205,
   "metadata": {
    "ExecuteTime": {
     "end_time": "2018-09-13T02:15:19.852296Z",
     "start_time": "2018-09-13T02:15:19.829825Z"
    }
   },
   "outputs": [],
   "source": [
    "from nltk.sentiment.vader import SentimentIntensityAnalyzer"
   ]
  },
  {
   "cell_type": "code",
   "execution_count": 206,
   "metadata": {
    "ExecuteTime": {
     "end_time": "2018-09-13T02:15:20.734496Z",
     "start_time": "2018-09-13T02:15:20.675466Z"
    }
   },
   "outputs": [],
   "source": [
    "sid = SentimentIntensityAnalyzer()"
   ]
  },
  {
   "cell_type": "code",
   "execution_count": 207,
   "metadata": {
    "ExecuteTime": {
     "end_time": "2018-09-13T02:15:37.932062Z",
     "start_time": "2018-09-13T02:15:21.527245Z"
    }
   },
   "outputs": [],
   "source": [
    "keys = ['pos','neg','neu','compound']\n",
    "vader = pd.DataFrame(dataset['Tweet'],index=dataset.index)\n",
    "for key in keys:\n",
    "    vader[key] = vader['Tweet'].apply(lambda tweet: sid.polarity_scores(tweet)[key])"
   ]
  },
  {
   "cell_type": "code",
   "execution_count": 208,
   "metadata": {
    "ExecuteTime": {
     "end_time": "2018-09-13T02:15:38.866482Z",
     "start_time": "2018-09-13T02:15:38.820478Z"
    }
   },
   "outputs": [
    {
     "data": {
      "text/html": [
       "<div>\n",
       "<style>\n",
       "    .dataframe thead tr:only-child th {\n",
       "        text-align: right;\n",
       "    }\n",
       "\n",
       "    .dataframe thead th {\n",
       "        text-align: left;\n",
       "    }\n",
       "\n",
       "    .dataframe tbody tr th {\n",
       "        vertical-align: top;\n",
       "    }\n",
       "</style>\n",
       "<table border=\"1\" class=\"dataframe\">\n",
       "  <thead>\n",
       "    <tr style=\"text-align: right;\">\n",
       "      <th></th>\n",
       "      <th>Tweet</th>\n",
       "      <th>pos</th>\n",
       "      <th>neg</th>\n",
       "      <th>neu</th>\n",
       "      <th>compound</th>\n",
       "    </tr>\n",
       "  </thead>\n",
       "  <tbody>\n",
       "    <tr>\n",
       "      <th>0</th>\n",
       "      <td>#FollowFriday @France_Inte @PKuchly57 @Milipol...</td>\n",
       "      <td>0.385</td>\n",
       "      <td>0.000</td>\n",
       "      <td>0.615</td>\n",
       "      <td>0.7579</td>\n",
       "    </tr>\n",
       "    <tr>\n",
       "      <th>1</th>\n",
       "      <td>@Lamb2ja Hey James! How odd :/ Please call our...</td>\n",
       "      <td>0.270</td>\n",
       "      <td>0.145</td>\n",
       "      <td>0.585</td>\n",
       "      <td>0.6229</td>\n",
       "    </tr>\n",
       "    <tr>\n",
       "      <th>2</th>\n",
       "      <td>@DespiteOfficial we had a listen last night :)...</td>\n",
       "      <td>0.294</td>\n",
       "      <td>0.000</td>\n",
       "      <td>0.706</td>\n",
       "      <td>0.7959</td>\n",
       "    </tr>\n",
       "    <tr>\n",
       "      <th>3</th>\n",
       "      <td>@97sides CONGRATS :)</td>\n",
       "      <td>0.877</td>\n",
       "      <td>0.000</td>\n",
       "      <td>0.123</td>\n",
       "      <td>0.7983</td>\n",
       "    </tr>\n",
       "    <tr>\n",
       "      <th>4</th>\n",
       "      <td>yeaaaah yippppy!!!  my accnt verified rqst has...</td>\n",
       "      <td>0.282</td>\n",
       "      <td>0.000</td>\n",
       "      <td>0.718</td>\n",
       "      <td>0.7950</td>\n",
       "    </tr>\n",
       "  </tbody>\n",
       "</table>\n",
       "</div>"
      ],
      "text/plain": [
       "                                               Tweet    pos    neg    neu  \\\n",
       "0  #FollowFriday @France_Inte @PKuchly57 @Milipol...  0.385  0.000  0.615   \n",
       "1  @Lamb2ja Hey James! How odd :/ Please call our...  0.270  0.145  0.585   \n",
       "2  @DespiteOfficial we had a listen last night :)...  0.294  0.000  0.706   \n",
       "3                               @97sides CONGRATS :)  0.877  0.000  0.123   \n",
       "4  yeaaaah yippppy!!!  my accnt verified rqst has...  0.282  0.000  0.718   \n",
       "\n",
       "   compound  \n",
       "0    0.7579  \n",
       "1    0.6229  \n",
       "2    0.7959  \n",
       "3    0.7983  \n",
       "4    0.7950  "
      ]
     },
     "execution_count": 208,
     "metadata": {},
     "output_type": "execute_result"
    }
   ],
   "source": [
    "vader.head()"
   ]
  },
  {
   "cell_type": "code",
   "execution_count": 209,
   "metadata": {
    "ExecuteTime": {
     "end_time": "2018-09-13T02:15:39.815577Z",
     "start_time": "2018-09-13T02:15:39.786854Z"
    }
   },
   "outputs": [],
   "source": [
    "vader['Sentiment'] = vader['compound'].apply(lambda x: 1 if x>0 else 0)"
   ]
  },
  {
   "cell_type": "code",
   "execution_count": 210,
   "metadata": {
    "ExecuteTime": {
     "end_time": "2018-09-13T02:15:40.734249Z",
     "start_time": "2018-09-13T02:15:40.693082Z"
    }
   },
   "outputs": [
    {
     "name": "stdout",
     "output_type": "stream",
     "text": [
      "[[3970 1030]\n",
      " [ 390 4610]] \n",
      "\n",
      "0.858\n"
     ]
    }
   ],
   "source": [
    "vader_cm = confusion_matrix(dataset['Sentiment'],vader['Sentiment'])\n",
    "print(vader_cm, '\\n')\n",
    "\n",
    "print(vader_cm.trace()/vader_cm.sum())"
   ]
  },
  {
   "cell_type": "markdown",
   "metadata": {},
   "source": [
    "The NLTK VADER method is much more successful at predicting tweets than the simple ML models implemented before; 85% accuracy vs 74%."
   ]
  },
  {
   "cell_type": "code",
   "execution_count": null,
   "metadata": {},
   "outputs": [],
   "source": []
  }
 ],
 "metadata": {
  "hide_input": false,
  "kernelspec": {
   "display_name": "Python 3",
   "language": "python",
   "name": "python3"
  },
  "language_info": {
   "codemirror_mode": {
    "name": "ipython",
    "version": 3
   },
   "file_extension": ".py",
   "mimetype": "text/x-python",
   "name": "python",
   "nbconvert_exporter": "python",
   "pygments_lexer": "ipython3",
   "version": "3.6.3"
  },
  "toc": {
   "base_numbering": 1,
   "nav_menu": {},
   "number_sections": false,
   "sideBar": true,
   "skip_h1_title": false,
   "title_cell": "Table of Contents",
   "title_sidebar": "Contents",
   "toc_cell": false,
   "toc_position": {},
   "toc_section_display": true,
   "toc_window_display": false
  },
  "varInspector": {
   "cols": {
    "lenName": 16,
    "lenType": 16,
    "lenVar": 40
   },
   "kernels_config": {
    "python": {
     "delete_cmd_postfix": "",
     "delete_cmd_prefix": "del ",
     "library": "var_list.py",
     "varRefreshCmd": "print(var_dic_list())"
    },
    "r": {
     "delete_cmd_postfix": ") ",
     "delete_cmd_prefix": "rm(",
     "library": "var_list.r",
     "varRefreshCmd": "cat(var_dic_list()) "
    }
   },
   "position": {
    "height": "227px",
    "left": "244px",
    "right": "88px",
    "top": "131px",
    "width": "350px"
   },
   "types_to_exclude": [
    "module",
    "function",
    "builtin_function_or_method",
    "instance",
    "_Feature"
   ],
   "window_display": false
  }
 },
 "nbformat": 4,
 "nbformat_minor": 2
}
